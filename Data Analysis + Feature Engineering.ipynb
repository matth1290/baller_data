{
 "cells": [
  {
   "cell_type": "markdown",
   "metadata": {},
   "source": [
    "# Week 3- Data Analysis + Feature Engineering"
   ]
  },
  {
   "cell_type": "markdown",
   "metadata": {},
   "source": [
    "### Additional Data cleaning to do for next data extraction\n",
    "\n",
    "1. Clean height to number\n",
    "2. Get year of player with the data\n",
    "3. Filter amongst the failed cases to get more data"
   ]
  },
  {
   "cell_type": "code",
   "execution_count": 1,
   "metadata": {},
   "outputs": [],
   "source": [
    "import numpy as np\n",
    "import pandas as pd\n",
    "import seaborn as sns"
   ]
  },
  {
   "cell_type": "code",
   "execution_count": 2,
   "metadata": {},
   "outputs": [],
   "source": [
    "data = pd.read_csv(\"all_player_data.csv\")\n",
    "data.drop(columns=['Unnamed: 0'], inplace=True)"
   ]
  },
  {
   "cell_type": "code",
   "execution_count": 125,
   "metadata": {},
   "outputs": [],
   "source": [
    "# ncaa_data = [0] + [num for num in range(len(data.columns)) if 'NCAAB' in data.columns[num]]"
   ]
  },
  {
   "cell_type": "code",
   "execution_count": 126,
   "metadata": {
    "scrolled": true
   },
   "outputs": [
    {
     "ename": "IndexError",
     "evalue": "positional indexers are out-of-bounds",
     "output_type": "error",
     "traceback": [
      "\u001b[0;31m---------------------------------------------------------------------------\u001b[0m",
      "\u001b[0;31mIndexError\u001b[0m                                Traceback (most recent call last)",
      "\u001b[0;32m<ipython-input-126-f355af1cc783>\u001b[0m in \u001b[0;36m<module>\u001b[0;34m()\u001b[0m\n\u001b[0;32m----> 1\u001b[0;31m \u001b[0mtrain\u001b[0m \u001b[0;34m=\u001b[0m \u001b[0mdata\u001b[0m\u001b[0;34m.\u001b[0m\u001b[0miloc\u001b[0m\u001b[0;34m[\u001b[0m\u001b[0;34m:\u001b[0m\u001b[0;34m,\u001b[0m \u001b[0mncaa_data\u001b[0m\u001b[0;34m]\u001b[0m\u001b[0;34m\u001b[0m\u001b[0m\n\u001b[0m\u001b[1;32m      2\u001b[0m \u001b[0mtrain\u001b[0m\u001b[0;34m\u001b[0m\u001b[0m\n",
      "\u001b[0;32m/Users/calvin/anaconda2/lib/python2.7/site-packages/pandas/core/indexing.pyc\u001b[0m in \u001b[0;36m__getitem__\u001b[0;34m(self, key)\u001b[0m\n\u001b[1;32m   1492\u001b[0m             \u001b[0;32mexcept\u001b[0m \u001b[0;34m(\u001b[0m\u001b[0mKeyError\u001b[0m\u001b[0;34m,\u001b[0m \u001b[0mIndexError\u001b[0m\u001b[0;34m,\u001b[0m \u001b[0mAttributeError\u001b[0m\u001b[0;34m)\u001b[0m\u001b[0;34m:\u001b[0m\u001b[0;34m\u001b[0m\u001b[0m\n\u001b[1;32m   1493\u001b[0m                 \u001b[0;32mpass\u001b[0m\u001b[0;34m\u001b[0m\u001b[0m\n\u001b[0;32m-> 1494\u001b[0;31m             \u001b[0;32mreturn\u001b[0m \u001b[0mself\u001b[0m\u001b[0;34m.\u001b[0m\u001b[0m_getitem_tuple\u001b[0m\u001b[0;34m(\u001b[0m\u001b[0mkey\u001b[0m\u001b[0;34m)\u001b[0m\u001b[0;34m\u001b[0m\u001b[0m\n\u001b[0m\u001b[1;32m   1495\u001b[0m         \u001b[0;32melse\u001b[0m\u001b[0;34m:\u001b[0m\u001b[0;34m\u001b[0m\u001b[0m\n\u001b[1;32m   1496\u001b[0m             \u001b[0;31m# we by definition only have the 0th axis\u001b[0m\u001b[0;34m\u001b[0m\u001b[0;34m\u001b[0m\u001b[0m\n",
      "\u001b[0;32m/Users/calvin/anaconda2/lib/python2.7/site-packages/pandas/core/indexing.pyc\u001b[0m in \u001b[0;36m_getitem_tuple\u001b[0;34m(self, tup)\u001b[0m\n\u001b[1;32m   2141\u001b[0m     \u001b[0;32mdef\u001b[0m \u001b[0m_getitem_tuple\u001b[0m\u001b[0;34m(\u001b[0m\u001b[0mself\u001b[0m\u001b[0;34m,\u001b[0m \u001b[0mtup\u001b[0m\u001b[0;34m)\u001b[0m\u001b[0;34m:\u001b[0m\u001b[0;34m\u001b[0m\u001b[0m\n\u001b[1;32m   2142\u001b[0m \u001b[0;34m\u001b[0m\u001b[0m\n\u001b[0;32m-> 2143\u001b[0;31m         \u001b[0mself\u001b[0m\u001b[0;34m.\u001b[0m\u001b[0m_has_valid_tuple\u001b[0m\u001b[0;34m(\u001b[0m\u001b[0mtup\u001b[0m\u001b[0;34m)\u001b[0m\u001b[0;34m\u001b[0m\u001b[0m\n\u001b[0m\u001b[1;32m   2144\u001b[0m         \u001b[0;32mtry\u001b[0m\u001b[0;34m:\u001b[0m\u001b[0;34m\u001b[0m\u001b[0m\n\u001b[1;32m   2145\u001b[0m             \u001b[0;32mreturn\u001b[0m \u001b[0mself\u001b[0m\u001b[0;34m.\u001b[0m\u001b[0m_getitem_lowerdim\u001b[0m\u001b[0;34m(\u001b[0m\u001b[0mtup\u001b[0m\u001b[0;34m)\u001b[0m\u001b[0;34m\u001b[0m\u001b[0m\n",
      "\u001b[0;32m/Users/calvin/anaconda2/lib/python2.7/site-packages/pandas/core/indexing.pyc\u001b[0m in \u001b[0;36m_has_valid_tuple\u001b[0;34m(self, key)\u001b[0m\n\u001b[1;32m    221\u001b[0m                 \u001b[0;32mraise\u001b[0m \u001b[0mIndexingError\u001b[0m\u001b[0;34m(\u001b[0m\u001b[0;34m'Too many indexers'\u001b[0m\u001b[0;34m)\u001b[0m\u001b[0;34m\u001b[0m\u001b[0m\n\u001b[1;32m    222\u001b[0m             \u001b[0;32mtry\u001b[0m\u001b[0;34m:\u001b[0m\u001b[0;34m\u001b[0m\u001b[0m\n\u001b[0;32m--> 223\u001b[0;31m                 \u001b[0mself\u001b[0m\u001b[0;34m.\u001b[0m\u001b[0m_validate_key\u001b[0m\u001b[0;34m(\u001b[0m\u001b[0mk\u001b[0m\u001b[0;34m,\u001b[0m \u001b[0mi\u001b[0m\u001b[0;34m)\u001b[0m\u001b[0;34m\u001b[0m\u001b[0m\n\u001b[0m\u001b[1;32m    224\u001b[0m             \u001b[0;32mexcept\u001b[0m \u001b[0mValueError\u001b[0m\u001b[0;34m:\u001b[0m\u001b[0;34m\u001b[0m\u001b[0m\n\u001b[1;32m    225\u001b[0m                 raise ValueError(\"Location based indexing can only have \"\n",
      "\u001b[0;32m/Users/calvin/anaconda2/lib/python2.7/site-packages/pandas/core/indexing.pyc\u001b[0m in \u001b[0;36m_validate_key\u001b[0;34m(self, key, axis)\u001b[0m\n\u001b[1;32m   2079\u001b[0m \u001b[0;34m\u001b[0m\u001b[0m\n\u001b[1;32m   2080\u001b[0m             \u001b[0;32mif\u001b[0m \u001b[0mlen\u001b[0m\u001b[0;34m(\u001b[0m\u001b[0marr\u001b[0m\u001b[0;34m)\u001b[0m \u001b[0;32mand\u001b[0m \u001b[0;34m(\u001b[0m\u001b[0marr\u001b[0m\u001b[0;34m.\u001b[0m\u001b[0mmax\u001b[0m\u001b[0;34m(\u001b[0m\u001b[0;34m)\u001b[0m \u001b[0;34m>=\u001b[0m \u001b[0mlen_axis\u001b[0m \u001b[0;32mor\u001b[0m \u001b[0marr\u001b[0m\u001b[0;34m.\u001b[0m\u001b[0mmin\u001b[0m\u001b[0;34m(\u001b[0m\u001b[0;34m)\u001b[0m \u001b[0;34m<\u001b[0m \u001b[0;34m-\u001b[0m\u001b[0mlen_axis\u001b[0m\u001b[0;34m)\u001b[0m\u001b[0;34m:\u001b[0m\u001b[0;34m\u001b[0m\u001b[0m\n\u001b[0;32m-> 2081\u001b[0;31m                 \u001b[0;32mraise\u001b[0m \u001b[0mIndexError\u001b[0m\u001b[0;34m(\u001b[0m\u001b[0;34m\"positional indexers are out-of-bounds\"\u001b[0m\u001b[0;34m)\u001b[0m\u001b[0;34m\u001b[0m\u001b[0m\n\u001b[0m\u001b[1;32m   2082\u001b[0m         \u001b[0;32melse\u001b[0m\u001b[0;34m:\u001b[0m\u001b[0;34m\u001b[0m\u001b[0m\n\u001b[1;32m   2083\u001b[0m             raise ValueError(\"Can only index by location with \"\n",
      "\u001b[0;31mIndexError\u001b[0m: positional indexers are out-of-bounds"
     ]
    }
   ],
   "source": [
    "# train = data.loc[:, ncaa_data]"
   ]
  },
  {
   "cell_type": "code",
   "execution_count": 127,
   "metadata": {},
   "outputs": [],
   "source": [
    "train = data"
   ]
  },
  {
   "cell_type": "code",
   "execution_count": 128,
   "metadata": {},
   "outputs": [],
   "source": [
    "import sklearn"
   ]
  },
  {
   "cell_type": "code",
   "execution_count": 129,
   "metadata": {},
   "outputs": [],
   "source": [
    "from sklearn.decomposition import PCA"
   ]
  },
  {
   "cell_type": "code",
   "execution_count": 130,
   "metadata": {},
   "outputs": [],
   "source": [
    "nan_col = train.columns[train.isna().any()].tolist()"
   ]
  },
  {
   "cell_type": "code",
   "execution_count": 134,
   "metadata": {},
   "outputs": [],
   "source": [
    "train.set_index('name', inplace=True)"
   ]
  },
  {
   "cell_type": "code",
   "execution_count": 135,
   "metadata": {},
   "outputs": [],
   "source": [
    "no_null = train.drop(columns=nan_col)"
   ]
  },
  {
   "cell_type": "code",
   "execution_count": 136,
   "metadata": {
    "scrolled": true
   },
   "outputs": [],
   "source": [
    "qual_col = no_null.select_dtypes(['object']).columns"
   ]
  },
  {
   "cell_type": "code",
   "execution_count": 137,
   "metadata": {
    "scrolled": true
   },
   "outputs": [],
   "source": [
    "all_quan = no_null.drop(columns=qual_col)"
   ]
  },
  {
   "cell_type": "code",
   "execution_count": 138,
   "metadata": {},
   "outputs": [
    {
     "data": {
      "text/html": [
       "<div>\n",
       "<style scoped>\n",
       "    .dataframe tbody tr th:only-of-type {\n",
       "        vertical-align: middle;\n",
       "    }\n",
       "\n",
       "    .dataframe tbody tr th {\n",
       "        vertical-align: top;\n",
       "    }\n",
       "\n",
       "    .dataframe thead th {\n",
       "        text-align: right;\n",
       "    }\n",
       "</style>\n",
       "<table border=\"1\" class=\"dataframe\">\n",
       "  <thead>\n",
       "    <tr style=\"text-align: right;\">\n",
       "      <th></th>\n",
       "      <th>NBA_assist_percentage</th>\n",
       "      <th>NBA_assists</th>\n",
       "      <th>NBA_block_percentage</th>\n",
       "      <th>NBA_blocks</th>\n",
       "      <th>NBA_box_plus_minus</th>\n",
       "      <th>NBA_center_percentage</th>\n",
       "      <th>NBA_defensive_box_plus_minus</th>\n",
       "      <th>NBA_defensive_rebound_percentage</th>\n",
       "      <th>NBA_defensive_rebounds</th>\n",
       "      <th>NBA_defensive_win_shares</th>\n",
       "      <th>...</th>\n",
       "      <th>NCAAB_true_shooting_percentage</th>\n",
       "      <th>NCAAB_turnover_percentage</th>\n",
       "      <th>NCAAB_turnovers</th>\n",
       "      <th>NCAAB_two_point_attempts</th>\n",
       "      <th>NCAAB_two_point_percentage</th>\n",
       "      <th>NCAAB_two_pointers</th>\n",
       "      <th>NCAAB_usage_percentage</th>\n",
       "      <th>NCAAB_weight</th>\n",
       "      <th>NCAAB_win_shares</th>\n",
       "      <th>NCAAB_win_shares_per_40_minutes</th>\n",
       "    </tr>\n",
       "    <tr>\n",
       "      <th>name</th>\n",
       "      <th></th>\n",
       "      <th></th>\n",
       "      <th></th>\n",
       "      <th></th>\n",
       "      <th></th>\n",
       "      <th></th>\n",
       "      <th></th>\n",
       "      <th></th>\n",
       "      <th></th>\n",
       "      <th></th>\n",
       "      <th></th>\n",
       "      <th></th>\n",
       "      <th></th>\n",
       "      <th></th>\n",
       "      <th></th>\n",
       "      <th></th>\n",
       "      <th></th>\n",
       "      <th></th>\n",
       "      <th></th>\n",
       "      <th></th>\n",
       "      <th></th>\n",
       "    </tr>\n",
       "  </thead>\n",
       "  <tbody>\n",
       "    <tr>\n",
       "      <th>Landry Fields</th>\n",
       "      <td>9.0</td>\n",
       "      <td>155.0</td>\n",
       "      <td>0.5</td>\n",
       "      <td>17.0</td>\n",
       "      <td>0.6</td>\n",
       "      <td>0</td>\n",
       "      <td>0.1</td>\n",
       "      <td>18.9</td>\n",
       "      <td>416.0</td>\n",
       "      <td>1.8</td>\n",
       "      <td>...</td>\n",
       "      <td>0.560</td>\n",
       "      <td>11.7</td>\n",
       "      <td>83.0</td>\n",
       "      <td>420.0</td>\n",
       "      <td>0.521</td>\n",
       "      <td>219.0</td>\n",
       "      <td>31.5</td>\n",
       "      <td>215</td>\n",
       "      <td>6.0</td>\n",
       "      <td>0.206</td>\n",
       "    </tr>\n",
       "    <tr>\n",
       "      <th>Andy Rautins</th>\n",
       "      <td>18.7</td>\n",
       "      <td>3.0</td>\n",
       "      <td>0.0</td>\n",
       "      <td>0.0</td>\n",
       "      <td>-16.0</td>\n",
       "      <td>0</td>\n",
       "      <td>-4.3</td>\n",
       "      <td>4.8</td>\n",
       "      <td>1.0</td>\n",
       "      <td>0.0</td>\n",
       "      <td>...</td>\n",
       "      <td>0.632</td>\n",
       "      <td>22.6</td>\n",
       "      <td>98.0</td>\n",
       "      <td>56.0</td>\n",
       "      <td>0.571</td>\n",
       "      <td>32.0</td>\n",
       "      <td>18.4</td>\n",
       "      <td>195</td>\n",
       "      <td>4.9</td>\n",
       "      <td>0.173</td>\n",
       "    </tr>\n",
       "    <tr>\n",
       "      <th>Patrick Patterson</th>\n",
       "      <td>7.6</td>\n",
       "      <td>41.0</td>\n",
       "      <td>3.0</td>\n",
       "      <td>37.0</td>\n",
       "      <td>0.5</td>\n",
       "      <td>0</td>\n",
       "      <td>0.5</td>\n",
       "      <td>14.9</td>\n",
       "      <td>114.0</td>\n",
       "      <td>0.7</td>\n",
       "      <td>...</td>\n",
       "      <td>0.624</td>\n",
       "      <td>8.6</td>\n",
       "      <td>41.0</td>\n",
       "      <td>305.0</td>\n",
       "      <td>0.626</td>\n",
       "      <td>191.0</td>\n",
       "      <td>18.0</td>\n",
       "      <td>235</td>\n",
       "      <td>7.0</td>\n",
       "      <td>0.223</td>\n",
       "    </tr>\n",
       "    <tr>\n",
       "      <th>Gani Lawal</th>\n",
       "      <td>0.0</td>\n",
       "      <td>0.0</td>\n",
       "      <td>0.0</td>\n",
       "      <td>0.0</td>\n",
       "      <td>-4.9</td>\n",
       "      <td>0</td>\n",
       "      <td>0.5</td>\n",
       "      <td>0.0</td>\n",
       "      <td>0.0</td>\n",
       "      <td>0.0</td>\n",
       "      <td>...</td>\n",
       "      <td>0.547</td>\n",
       "      <td>15.3</td>\n",
       "      <td>78.0</td>\n",
       "      <td>324.0</td>\n",
       "      <td>0.531</td>\n",
       "      <td>172.0</td>\n",
       "      <td>26.1</td>\n",
       "      <td>234</td>\n",
       "      <td>4.1</td>\n",
       "      <td>0.177</td>\n",
       "    </tr>\n",
       "    <tr>\n",
       "      <th>Cole Aldrich</th>\n",
       "      <td>4.0</td>\n",
       "      <td>4.0</td>\n",
       "      <td>3.6</td>\n",
       "      <td>7.0</td>\n",
       "      <td>-0.8</td>\n",
       "      <td>0</td>\n",
       "      <td>2.6</td>\n",
       "      <td>17.5</td>\n",
       "      <td>22.0</td>\n",
       "      <td>0.2</td>\n",
       "      <td>...</td>\n",
       "      <td>0.596</td>\n",
       "      <td>14.1</td>\n",
       "      <td>56.0</td>\n",
       "      <td>265.0</td>\n",
       "      <td>0.562</td>\n",
       "      <td>149.0</td>\n",
       "      <td>19.9</td>\n",
       "      <td>245</td>\n",
       "      <td>5.9</td>\n",
       "      <td>0.245</td>\n",
       "    </tr>\n",
       "  </tbody>\n",
       "</table>\n",
       "<p>5 rows × 86 columns</p>\n",
       "</div>"
      ],
      "text/plain": [
       "                   NBA_assist_percentage  NBA_assists  NBA_block_percentage  \\\n",
       "name                                                                          \n",
       "Landry Fields                        9.0        155.0                   0.5   \n",
       "Andy Rautins                        18.7          3.0                   0.0   \n",
       "Patrick Patterson                    7.6         41.0                   3.0   \n",
       "Gani Lawal                           0.0          0.0                   0.0   \n",
       "Cole Aldrich                         4.0          4.0                   3.6   \n",
       "\n",
       "                   NBA_blocks  NBA_box_plus_minus  NBA_center_percentage  \\\n",
       "name                                                                       \n",
       "Landry Fields            17.0                 0.6                      0   \n",
       "Andy Rautins              0.0               -16.0                      0   \n",
       "Patrick Patterson        37.0                 0.5                      0   \n",
       "Gani Lawal                0.0                -4.9                      0   \n",
       "Cole Aldrich              7.0                -0.8                      0   \n",
       "\n",
       "                   NBA_defensive_box_plus_minus  \\\n",
       "name                                              \n",
       "Landry Fields                               0.1   \n",
       "Andy Rautins                               -4.3   \n",
       "Patrick Patterson                           0.5   \n",
       "Gani Lawal                                  0.5   \n",
       "Cole Aldrich                                2.6   \n",
       "\n",
       "                   NBA_defensive_rebound_percentage  NBA_defensive_rebounds  \\\n",
       "name                                                                          \n",
       "Landry Fields                                  18.9                   416.0   \n",
       "Andy Rautins                                    4.8                     1.0   \n",
       "Patrick Patterson                              14.9                   114.0   \n",
       "Gani Lawal                                      0.0                     0.0   \n",
       "Cole Aldrich                                   17.5                    22.0   \n",
       "\n",
       "                   NBA_defensive_win_shares  ...  \\\n",
       "name                                         ...   \n",
       "Landry Fields                           1.8  ...   \n",
       "Andy Rautins                            0.0  ...   \n",
       "Patrick Patterson                       0.7  ...   \n",
       "Gani Lawal                              0.0  ...   \n",
       "Cole Aldrich                            0.2  ...   \n",
       "\n",
       "                   NCAAB_true_shooting_percentage  NCAAB_turnover_percentage  \\\n",
       "name                                                                           \n",
       "Landry Fields                               0.560                       11.7   \n",
       "Andy Rautins                                0.632                       22.6   \n",
       "Patrick Patterson                           0.624                        8.6   \n",
       "Gani Lawal                                  0.547                       15.3   \n",
       "Cole Aldrich                                0.596                       14.1   \n",
       "\n",
       "                   NCAAB_turnovers  NCAAB_two_point_attempts  \\\n",
       "name                                                           \n",
       "Landry Fields                 83.0                     420.0   \n",
       "Andy Rautins                  98.0                      56.0   \n",
       "Patrick Patterson             41.0                     305.0   \n",
       "Gani Lawal                    78.0                     324.0   \n",
       "Cole Aldrich                  56.0                     265.0   \n",
       "\n",
       "                   NCAAB_two_point_percentage  NCAAB_two_pointers  \\\n",
       "name                                                                \n",
       "Landry Fields                           0.521               219.0   \n",
       "Andy Rautins                            0.571                32.0   \n",
       "Patrick Patterson                       0.626               191.0   \n",
       "Gani Lawal                              0.531               172.0   \n",
       "Cole Aldrich                            0.562               149.0   \n",
       "\n",
       "                   NCAAB_usage_percentage  NCAAB_weight  NCAAB_win_shares  \\\n",
       "name                                                                        \n",
       "Landry Fields                        31.5           215               6.0   \n",
       "Andy Rautins                         18.4           195               4.9   \n",
       "Patrick Patterson                    18.0           235               7.0   \n",
       "Gani Lawal                           26.1           234               4.1   \n",
       "Cole Aldrich                         19.9           245               5.9   \n",
       "\n",
       "                   NCAAB_win_shares_per_40_minutes  \n",
       "name                                                \n",
       "Landry Fields                                0.206  \n",
       "Andy Rautins                                 0.173  \n",
       "Patrick Patterson                            0.223  \n",
       "Gani Lawal                                   0.177  \n",
       "Cole Aldrich                                 0.245  \n",
       "\n",
       "[5 rows x 86 columns]"
      ]
     },
     "execution_count": 138,
     "metadata": {},
     "output_type": "execute_result"
    }
   ],
   "source": [
    "all_quan.head()"
   ]
  },
  {
   "cell_type": "code",
   "execution_count": 139,
   "metadata": {},
   "outputs": [],
   "source": [
    "from sklearn.preprocessing import StandardScaler"
   ]
  },
  {
   "cell_type": "code",
   "execution_count": 140,
   "metadata": {},
   "outputs": [],
   "source": [
    "df2 = all_quan\n",
    "cols = df2.columns\n",
    "sc2 = StandardScaler()\n",
    "for col in cols:\n",
    "    df2[col] = pd.to_numeric(df2[col])\n",
    "    df2[[col]] = sc2.fit_transform(df2[[col]])\n",
    "df2 = df2.dropna()"
   ]
  },
  {
   "cell_type": "code",
   "execution_count": 141,
   "metadata": {},
   "outputs": [
    {
     "data": {
      "text/html": [
       "<div>\n",
       "<style scoped>\n",
       "    .dataframe tbody tr th:only-of-type {\n",
       "        vertical-align: middle;\n",
       "    }\n",
       "\n",
       "    .dataframe tbody tr th {\n",
       "        vertical-align: top;\n",
       "    }\n",
       "\n",
       "    .dataframe thead th {\n",
       "        text-align: right;\n",
       "    }\n",
       "</style>\n",
       "<table border=\"1\" class=\"dataframe\">\n",
       "  <thead>\n",
       "    <tr style=\"text-align: right;\">\n",
       "      <th></th>\n",
       "      <th>NBA_assist_percentage</th>\n",
       "      <th>NBA_assists</th>\n",
       "      <th>NBA_block_percentage</th>\n",
       "      <th>NBA_blocks</th>\n",
       "      <th>NBA_box_plus_minus</th>\n",
       "      <th>NBA_center_percentage</th>\n",
       "      <th>NBA_defensive_box_plus_minus</th>\n",
       "      <th>NBA_defensive_rebound_percentage</th>\n",
       "      <th>NBA_defensive_rebounds</th>\n",
       "      <th>NBA_defensive_win_shares</th>\n",
       "      <th>...</th>\n",
       "      <th>NCAAB_true_shooting_percentage</th>\n",
       "      <th>NCAAB_turnover_percentage</th>\n",
       "      <th>NCAAB_turnovers</th>\n",
       "      <th>NCAAB_two_point_attempts</th>\n",
       "      <th>NCAAB_two_point_percentage</th>\n",
       "      <th>NCAAB_two_pointers</th>\n",
       "      <th>NCAAB_usage_percentage</th>\n",
       "      <th>NCAAB_weight</th>\n",
       "      <th>NCAAB_win_shares</th>\n",
       "      <th>NCAAB_win_shares_per_40_minutes</th>\n",
       "    </tr>\n",
       "    <tr>\n",
       "      <th>name</th>\n",
       "      <th></th>\n",
       "      <th></th>\n",
       "      <th></th>\n",
       "      <th></th>\n",
       "      <th></th>\n",
       "      <th></th>\n",
       "      <th></th>\n",
       "      <th></th>\n",
       "      <th></th>\n",
       "      <th></th>\n",
       "      <th></th>\n",
       "      <th></th>\n",
       "      <th></th>\n",
       "      <th></th>\n",
       "      <th></th>\n",
       "      <th></th>\n",
       "      <th></th>\n",
       "      <th></th>\n",
       "      <th></th>\n",
       "      <th></th>\n",
       "      <th></th>\n",
       "    </tr>\n",
       "  </thead>\n",
       "  <tbody>\n",
       "    <tr>\n",
       "      <th>Landry Fields</th>\n",
       "      <td>-0.207399</td>\n",
       "      <td>1.244073</td>\n",
       "      <td>-0.499657</td>\n",
       "      <td>0.264757</td>\n",
       "      <td>0.912686</td>\n",
       "      <td>0.0</td>\n",
       "      <td>0.407494</td>\n",
       "      <td>0.545355</td>\n",
       "      <td>3.647902</td>\n",
       "      <td>1.872224</td>\n",
       "      <td>...</td>\n",
       "      <td>-0.218631</td>\n",
       "      <td>-0.633291</td>\n",
       "      <td>0.550241</td>\n",
       "      <td>1.890478</td>\n",
       "      <td>0.003312</td>\n",
       "      <td>1.775926</td>\n",
       "      <td>1.586557</td>\n",
       "      <td>0.087808</td>\n",
       "      <td>0.765881</td>\n",
       "      <td>0.507214</td>\n",
       "    </tr>\n",
       "    <tr>\n",
       "      <th>Andy Rautins</th>\n",
       "      <td>0.825272</td>\n",
       "      <td>-0.565032</td>\n",
       "      <td>-0.745330</td>\n",
       "      <td>-0.632718</td>\n",
       "      <td>-2.079855</td>\n",
       "      <td>0.0</td>\n",
       "      <td>-1.180687</td>\n",
       "      <td>-1.010799</td>\n",
       "      <td>-0.793781</td>\n",
       "      <td>-0.757347</td>\n",
       "      <td>...</td>\n",
       "      <td>1.302335</td>\n",
       "      <td>2.381757</td>\n",
       "      <td>1.144171</td>\n",
       "      <td>-2.257585</td>\n",
       "      <td>0.834408</td>\n",
       "      <td>-2.064611</td>\n",
       "      <td>-1.383927</td>\n",
       "      <td>-0.714148</td>\n",
       "      <td>0.102087</td>\n",
       "      <td>-0.186943</td>\n",
       "    </tr>\n",
       "    <tr>\n",
       "      <th>Patrick Patterson</th>\n",
       "      <td>-0.356444</td>\n",
       "      <td>-0.112756</td>\n",
       "      <td>0.728706</td>\n",
       "      <td>1.320610</td>\n",
       "      <td>0.894658</td>\n",
       "      <td>0.0</td>\n",
       "      <td>0.551874</td>\n",
       "      <td>0.103893</td>\n",
       "      <td>0.415641</td>\n",
       "      <td>0.265264</td>\n",
       "      <td>...</td>\n",
       "      <td>1.133339</td>\n",
       "      <td>-1.490782</td>\n",
       "      <td>-1.112762</td>\n",
       "      <td>0.579964</td>\n",
       "      <td>1.748615</td>\n",
       "      <td>1.200872</td>\n",
       "      <td>-1.474629</td>\n",
       "      <td>0.889764</td>\n",
       "      <td>1.369330</td>\n",
       "      <td>0.864811</td>\n",
       "    </tr>\n",
       "    <tr>\n",
       "      <th>Gani Lawal</th>\n",
       "      <td>-1.165547</td>\n",
       "      <td>-0.600738</td>\n",
       "      <td>-0.745330</td>\n",
       "      <td>-0.632718</td>\n",
       "      <td>-0.078819</td>\n",
       "      <td>0.0</td>\n",
       "      <td>0.551874</td>\n",
       "      <td>-1.540553</td>\n",
       "      <td>-0.804484</td>\n",
       "      <td>-0.757347</td>\n",
       "      <td>...</td>\n",
       "      <td>-0.493250</td>\n",
       "      <td>0.362505</td>\n",
       "      <td>0.352264</td>\n",
       "      <td>0.796483</td>\n",
       "      <td>0.169531</td>\n",
       "      <td>0.810657</td>\n",
       "      <td>0.362083</td>\n",
       "      <td>0.849667</td>\n",
       "      <td>-0.380672</td>\n",
       "      <td>-0.102803</td>\n",
       "    </tr>\n",
       "    <tr>\n",
       "      <th>Cole Aldrich</th>\n",
       "      <td>-0.739703</td>\n",
       "      <td>-0.553130</td>\n",
       "      <td>1.023513</td>\n",
       "      <td>-0.263169</td>\n",
       "      <td>0.660303</td>\n",
       "      <td>0.0</td>\n",
       "      <td>1.309869</td>\n",
       "      <td>0.390843</td>\n",
       "      <td>-0.569022</td>\n",
       "      <td>-0.465173</td>\n",
       "      <td>...</td>\n",
       "      <td>0.541852</td>\n",
       "      <td>0.030573</td>\n",
       "      <td>-0.518833</td>\n",
       "      <td>0.124133</td>\n",
       "      <td>0.684811</td>\n",
       "      <td>0.338292</td>\n",
       "      <td>-1.043796</td>\n",
       "      <td>1.290743</td>\n",
       "      <td>0.705536</td>\n",
       "      <td>1.327582</td>\n",
       "    </tr>\n",
       "  </tbody>\n",
       "</table>\n",
       "<p>5 rows × 86 columns</p>\n",
       "</div>"
      ],
      "text/plain": [
       "                   NBA_assist_percentage  NBA_assists  NBA_block_percentage  \\\n",
       "name                                                                          \n",
       "Landry Fields                  -0.207399     1.244073             -0.499657   \n",
       "Andy Rautins                    0.825272    -0.565032             -0.745330   \n",
       "Patrick Patterson              -0.356444    -0.112756              0.728706   \n",
       "Gani Lawal                     -1.165547    -0.600738             -0.745330   \n",
       "Cole Aldrich                   -0.739703    -0.553130              1.023513   \n",
       "\n",
       "                   NBA_blocks  NBA_box_plus_minus  NBA_center_percentage  \\\n",
       "name                                                                       \n",
       "Landry Fields        0.264757            0.912686                    0.0   \n",
       "Andy Rautins        -0.632718           -2.079855                    0.0   \n",
       "Patrick Patterson    1.320610            0.894658                    0.0   \n",
       "Gani Lawal          -0.632718           -0.078819                    0.0   \n",
       "Cole Aldrich        -0.263169            0.660303                    0.0   \n",
       "\n",
       "                   NBA_defensive_box_plus_minus  \\\n",
       "name                                              \n",
       "Landry Fields                          0.407494   \n",
       "Andy Rautins                          -1.180687   \n",
       "Patrick Patterson                      0.551874   \n",
       "Gani Lawal                             0.551874   \n",
       "Cole Aldrich                           1.309869   \n",
       "\n",
       "                   NBA_defensive_rebound_percentage  NBA_defensive_rebounds  \\\n",
       "name                                                                          \n",
       "Landry Fields                              0.545355                3.647902   \n",
       "Andy Rautins                              -1.010799               -0.793781   \n",
       "Patrick Patterson                          0.103893                0.415641   \n",
       "Gani Lawal                                -1.540553               -0.804484   \n",
       "Cole Aldrich                               0.390843               -0.569022   \n",
       "\n",
       "                   NBA_defensive_win_shares  ...  \\\n",
       "name                                         ...   \n",
       "Landry Fields                      1.872224  ...   \n",
       "Andy Rautins                      -0.757347  ...   \n",
       "Patrick Patterson                  0.265264  ...   \n",
       "Gani Lawal                        -0.757347  ...   \n",
       "Cole Aldrich                      -0.465173  ...   \n",
       "\n",
       "                   NCAAB_true_shooting_percentage  NCAAB_turnover_percentage  \\\n",
       "name                                                                           \n",
       "Landry Fields                           -0.218631                  -0.633291   \n",
       "Andy Rautins                             1.302335                   2.381757   \n",
       "Patrick Patterson                        1.133339                  -1.490782   \n",
       "Gani Lawal                              -0.493250                   0.362505   \n",
       "Cole Aldrich                             0.541852                   0.030573   \n",
       "\n",
       "                   NCAAB_turnovers  NCAAB_two_point_attempts  \\\n",
       "name                                                           \n",
       "Landry Fields             0.550241                  1.890478   \n",
       "Andy Rautins              1.144171                 -2.257585   \n",
       "Patrick Patterson        -1.112762                  0.579964   \n",
       "Gani Lawal                0.352264                  0.796483   \n",
       "Cole Aldrich             -0.518833                  0.124133   \n",
       "\n",
       "                   NCAAB_two_point_percentage  NCAAB_two_pointers  \\\n",
       "name                                                                \n",
       "Landry Fields                        0.003312            1.775926   \n",
       "Andy Rautins                         0.834408           -2.064611   \n",
       "Patrick Patterson                    1.748615            1.200872   \n",
       "Gani Lawal                           0.169531            0.810657   \n",
       "Cole Aldrich                         0.684811            0.338292   \n",
       "\n",
       "                   NCAAB_usage_percentage  NCAAB_weight  NCAAB_win_shares  \\\n",
       "name                                                                        \n",
       "Landry Fields                    1.586557      0.087808          0.765881   \n",
       "Andy Rautins                    -1.383927     -0.714148          0.102087   \n",
       "Patrick Patterson               -1.474629      0.889764          1.369330   \n",
       "Gani Lawal                       0.362083      0.849667         -0.380672   \n",
       "Cole Aldrich                    -1.043796      1.290743          0.705536   \n",
       "\n",
       "                   NCAAB_win_shares_per_40_minutes  \n",
       "name                                                \n",
       "Landry Fields                             0.507214  \n",
       "Andy Rautins                             -0.186943  \n",
       "Patrick Patterson                         0.864811  \n",
       "Gani Lawal                               -0.102803  \n",
       "Cole Aldrich                              1.327582  \n",
       "\n",
       "[5 rows x 86 columns]"
      ]
     },
     "execution_count": 141,
     "metadata": {},
     "output_type": "execute_result"
    }
   ],
   "source": [
    "df2.head()"
   ]
  },
  {
   "cell_type": "code",
   "execution_count": 158,
   "metadata": {
    "scrolled": true
   },
   "outputs": [],
   "source": [
    "nba_col = [num for num in range(len(d.columns)) if 'NBA' in d.columns[num]]\n",
    "ncaab_col = [num for num in range(len(d.columns)) if 'NCAAB' in d.columns[num]]\n"
   ]
  },
  {
   "cell_type": "code",
   "execution_count": 164,
   "metadata": {
    "scrolled": true
   },
   "outputs": [
    {
     "name": "stdout",
     "output_type": "stream",
     "text": [
      "(45, 'NCAAB_assist_percentage')\n",
      "(46, 'NCAAB_assists')\n",
      "(47, 'NCAAB_block_percentage')\n",
      "(48, 'NCAAB_blocks')\n",
      "(49, 'NCAAB_defensive_rebound_percentage')\n",
      "(50, 'NCAAB_defensive_rebounds')\n",
      "(51, 'NCAAB_defensive_win_shares')\n",
      "(52, 'NCAAB_effective_field_goal_percentage')\n",
      "(53, 'NCAAB_field_goal_attempts')\n",
      "(54, 'NCAAB_field_goal_percentage')\n",
      "(55, 'NCAAB_field_goals')\n",
      "(56, 'NCAAB_free_throw_attempt_rate')\n",
      "(57, 'NCAAB_free_throw_attempts')\n",
      "(58, 'NCAAB_free_throw_percentage')\n",
      "(59, 'NCAAB_free_throws')\n",
      "(60, 'NCAAB_games_played')\n",
      "(61, 'NCAAB_games_started')\n",
      "(62, 'NCAAB_minutes_played')\n",
      "(63, 'NCAAB_offensive_rebound_percentage')\n",
      "(64, 'NCAAB_offensive_rebounds')\n",
      "(65, 'NCAAB_offensive_win_shares')\n",
      "(66, 'NCAAB_personal_fouls')\n",
      "(67, 'NCAAB_points')\n",
      "(68, 'NCAAB_points_produced')\n",
      "(69, 'NCAAB_steal_percentage')\n",
      "(70, 'NCAAB_steals')\n",
      "(71, 'NCAAB_three_point_attempt_rate')\n",
      "(72, 'NCAAB_three_point_attempts')\n",
      "(73, 'NCAAB_three_pointers')\n",
      "(74, 'NCAAB_total_rebound_percentage')\n",
      "(75, 'NCAAB_total_rebounds')\n",
      "(76, 'NCAAB_true_shooting_percentage')\n",
      "(77, 'NCAAB_turnover_percentage')\n",
      "(78, 'NCAAB_turnovers')\n",
      "(79, 'NCAAB_two_point_attempts')\n",
      "(80, 'NCAAB_two_point_percentage')\n",
      "(81, 'NCAAB_two_pointers')\n",
      "(82, 'NCAAB_usage_percentage')\n",
      "(83, 'NCAAB_weight')\n",
      "(84, 'NCAAB_win_shares')\n",
      "(85, 'NCAAB_win_shares_per_40_minutes')\n"
     ]
    }
   ],
   "source": [
    "cols = d.iloc[:, ncaab_col].columns\n",
    "for num in range(len(ncaab_col)):\n",
    "    print(num + len(nba_col), cols[num])"
   ]
  },
  {
   "cell_type": "code",
   "execution_count": 165,
   "metadata": {},
   "outputs": [],
   "source": [
    "nba_i = [1,3,4,11,12,15,25,27,32,34,36,37]"
   ]
  },
  {
   "cell_type": "code",
   "execution_count": 166,
   "metadata": {},
   "outputs": [],
   "source": [
    "ncaa_i = [46, 48, 53, 54, 55, 56, 57, 58, 59, 60, 61, 62, 67, 70, 72, 73, 75, 78, 79, 80, 85]"
   ]
  },
  {
   "cell_type": "code",
   "execution_count": 167,
   "metadata": {},
   "outputs": [],
   "source": [
    "nba_important = d.iloc[:, nba_i]\n",
    "ncaab_important = d.iloc[:, ncaa_i]"
   ]
  },
  {
   "cell_type": "code",
   "execution_count": 169,
   "metadata": {},
   "outputs": [],
   "source": [
    "important = d.iloc[:, nba_i + ncaa_i]"
   ]
  },
  {
   "cell_type": "code",
   "execution_count": 175,
   "metadata": {},
   "outputs": [],
   "source": [
    "corr = important.corr()"
   ]
  },
  {
   "cell_type": "code",
   "execution_count": 176,
   "metadata": {},
   "outputs": [
    {
     "data": {
      "text/plain": [
       "array([[False, False, False, ..., False, False, False],\n",
       "       [False, False, False, ..., False, False, False],\n",
       "       [False, False, False, ..., False, False, False],\n",
       "       ...,\n",
       "       [False, False, False, ..., False, False, False],\n",
       "       [False, False, False, ..., False, False, False],\n",
       "       [False, False, False, ..., False, False, False]])"
      ]
     },
     "execution_count": 176,
     "metadata": {},
     "output_type": "execute_result"
    }
   ],
   "source": [
    "np.zeros_like(corr, dtype=np.bool)"
   ]
  },
  {
   "cell_type": "code",
   "execution_count": 201,
   "metadata": {},
   "outputs": [],
   "source": [
    "mask = np.zeros_like(corr, dtype=np.bool)\n",
    "mask[np.triu_indices_from(mask)] = True"
   ]
  },
  {
   "cell_type": "code",
   "execution_count": 342,
   "metadata": {
    "scrolled": true
   },
   "outputs": [
    {
     "data": {
      "text/plain": [
       "array([0.25809049, 0.18081983])"
      ]
     },
     "execution_count": 342,
     "metadata": {},
     "output_type": "execute_result"
    }
   ],
   "source": [
    "pca.explained_variance_ratio_"
   ]
  },
  {
   "cell_type": "code",
   "execution_count": 212,
   "metadata": {
    "scrolled": true
   },
   "outputs": [
    {
     "name": "stdout",
     "output_type": "stream",
     "text": [
      "AxesSubplot(0.125,0.166667;0.62x0.671667)\n"
     ]
    },
    {
     "data": {
      "image/png": "[encoded data removed]",
      "text/plain": [
       "<Figure size 936x864 with 2 Axes>"
      ]
     },
     "metadata": {},
     "output_type": "display_data"
    }
   ],
   "source": [
    "f, ax = plt.subplots(figsize=(13, 12))\n",
    "print(sns.heatmap(corr, mask=mask, cmap=cmap, center=0, square=True, linewidths=.5, cbar_kws={\"shrink\": .5}))\n"
   ]
  },
  {
   "cell_type": "code",
   "execution_count": 216,
   "metadata": {},
   "outputs": [],
   "source": [
    "from sklearn.cluster import KMeans"
   ]
  },
  {
   "cell_type": "code",
   "execution_count": 338,
   "metadata": {},
   "outputs": [
    {
     "data": {
      "text/plain": [
       "(532, 86)"
      ]
     },
     "execution_count": 338,
     "metadata": {},
     "output_type": "execute_result"
    }
   ],
   "source": [
    "df2.shape"
   ]
  },
  {
   "cell_type": "code",
   "execution_count": 225,
   "metadata": {},
   "outputs": [
    {
     "data": {
      "text/plain": [
       "(532, 2)"
      ]
     },
     "execution_count": 225,
     "metadata": {},
     "output_type": "execute_result"
    }
   ],
   "source": [
    "pca = PCA(n_components=2)\n",
    "pca_fitted = pca.fit_transform(df2.values)\n",
    "pca_fitted.shape"
   ]
  },
  {
   "cell_type": "code",
   "execution_count": 226,
   "metadata": {},
   "outputs": [
    {
     "data": {
      "text/plain": [
       "array([[11.40917276, -0.26131746],\n",
       "       [-4.65999889, -4.8012677 ],\n",
       "       [ 3.31488228,  3.63211514],\n",
       "       ...,\n",
       "       [-4.96849822, -3.68480895],\n",
       "       [-4.14292659, -0.8426134 ],\n",
       "       [-3.47251955, -1.08276468]])"
      ]
     },
     "execution_count": 226,
     "metadata": {},
     "output_type": "execute_result"
    }
   ],
   "source": [
    "pca_fitted"
   ]
  },
  {
   "cell_type": "code",
   "execution_count": 236,
   "metadata": {},
   "outputs": [],
   "source": [
    "from sklearn.cluster import KMeans"
   ]
  },
  {
   "cell_type": "code",
   "execution_count": 247,
   "metadata": {},
   "outputs": [
    {
     "data": {
      "text/plain": [
       "<module 'matplotlib.cm' from '/Users/calvin/anaconda2/lib/python2.7/site-packages/matplotlib/cm.pyc'>"
      ]
     },
     "execution_count": 247,
     "metadata": {},
     "output_type": "execute_result"
    }
   ],
   "source": [
    "plt.cm.Set1"
   ]
  },
  {
   "cell_type": "code",
   "execution_count": 262,
   "metadata": {},
   "outputs": [
    {
     "data": {
      "text/plain": [
       "(532,)"
      ]
     },
     "execution_count": 262,
     "metadata": {},
     "output_type": "execute_result"
    }
   ],
   "source": [
    "pca_fitted[:, 0].shape"
   ]
  },
  {
   "cell_type": "code",
   "execution_count": 274,
   "metadata": {},
   "outputs": [
    {
     "data": {
      "text/plain": [
       "<matplotlib.collections.PathCollection at 0x1a220fc810>"
      ]
     },
     "execution_count": 274,
     "metadata": {},
     "output_type": "execute_result"
    },
    {
     "data": {
      "image/png": "[encoded data removed]",
      "text/plain": [
       "<Figure size 432x288 with 1 Axes>"
      ]
     },
     "metadata": {},
     "output_type": "display_data"
    }
   ],
   "source": [
    "x = [0, 1, 2, 3]\n",
    "y = [1, 2, 3, 4]\n",
    "label = [0, 0.5, 1, 0.2]\n",
    "plt.scatter(x, y, color=plt.cm.Set1(label))"
   ]
  },
  {
   "cell_type": "code",
   "execution_count": 294,
   "metadata": {},
   "outputs": [
    {
     "data": {
      "text/plain": [
       "array([[0.89411765, 0.10196078, 0.10980392, 1.        ],\n",
       "       [1.        , 0.49803922, 0.        , 1.        ],\n",
       "       [0.6       , 0.6       , 0.6       , 1.        ],\n",
       "       [0.21568627, 0.49411765, 0.72156863, 1.        ]])"
      ]
     },
     "execution_count": 294,
     "metadata": {},
     "output_type": "execute_result"
    }
   ],
   "source": [
    "plt.cm.Set1(label)"
   ]
  },
  {
   "cell_type": "code",
   "execution_count": 276,
   "metadata": {},
   "outputs": [
    {
     "data": {
      "text/plain": [
       "array([0.18257419, 0.36514837, 0.54772256, 0.73029674])"
      ]
     },
     "execution_count": 276,
     "metadata": {},
     "output_type": "execute_result"
    }
   ],
   "source": [
    "y / np.linalg.norm(y)"
   ]
  },
  {
   "cell_type": "code",
   "execution_count": 312,
   "metadata": {},
   "outputs": [
    {
     "data": {
      "text/plain": [
       "array([0. , 0.5])"
      ]
     },
     "execution_count": 312,
     "metadata": {},
     "output_type": "execute_result"
    }
   ],
   "source": [
    "np.true_divide(np.array([0, 1]),  2)"
   ]
  },
  {
   "cell_type": "code",
   "execution_count": 314,
   "metadata": {},
   "outputs": [
    {
     "data": {
      "text/plain": [
       "array([[1.        , 1.        , 0.2       , 1.        ],\n",
       "       [0.59607843, 0.30588235, 0.63921569, 1.        ],\n",
       "       [0.89411765, 0.10196078, 0.10980392, 1.        ],\n",
       "       ...,\n",
       "       [0.59607843, 0.30588235, 0.63921569, 1.        ],\n",
       "       [0.59607843, 0.30588235, 0.63921569, 1.        ],\n",
       "       [0.65098039, 0.3372549 , 0.15686275, 1.        ]])"
      ]
     },
     "execution_count": 314,
     "metadata": {},
     "output_type": "execute_result"
    }
   ],
   "source": [
    "plt.cm.Set1(np.true_divide(np.array(labels), max(labels)))"
   ]
  },
  {
   "cell_type": "code",
   "execution_count": 317,
   "metadata": {},
   "outputs": [],
   "source": [
    "def plot_cluster(data, labels):\n",
    "    plt.figure(figsize=(18, 9))\n",
    "    plt.scatter(data[:, 0], data[:, 1], color=plt.cm.Set1(np.true_divide(np.array(labels), max(labels))))\n",
    "    "
   ]
  },
  {
   "cell_type": "code",
   "execution_count": 318,
   "metadata": {},
   "outputs": [
    {
     "data": {
      "image/png": "[encoded data removed]",
      "text/plain": [
       "<Figure size 1296x648 with 1 Axes>"
      ]
     },
     "metadata": {},
     "output_type": "display_data"
    }
   ],
   "source": [
    "plot_cluster(pca_fitted, cluster.labels_)"
   ]
  },
  {
   "cell_type": "code",
   "execution_count": 319,
   "metadata": {},
   "outputs": [],
   "source": [
    "df3 = df2.copy(deep=True)"
   ]
  },
  {
   "cell_type": "code",
   "execution_count": 325,
   "metadata": {},
   "outputs": [
    {
     "data": {
      "text/html": [
       "<div>\n",
       "<style scoped>\n",
       "    .dataframe tbody tr th:only-of-type {\n",
       "        vertical-align: middle;\n",
       "    }\n",
       "\n",
       "    .dataframe tbody tr th {\n",
       "        vertical-align: top;\n",
       "    }\n",
       "\n",
       "    .dataframe thead th {\n",
       "        text-align: right;\n",
       "    }\n",
       "</style>\n",
       "<table border=\"1\" class=\"dataframe\">\n",
       "  <thead>\n",
       "    <tr style=\"text-align: right;\">\n",
       "      <th></th>\n",
       "      <th>NBA_assist_percentage</th>\n",
       "      <th>NBA_assists</th>\n",
       "      <th>NBA_block_percentage</th>\n",
       "      <th>NBA_blocks</th>\n",
       "      <th>NBA_box_plus_minus</th>\n",
       "      <th>NBA_center_percentage</th>\n",
       "      <th>NBA_defensive_box_plus_minus</th>\n",
       "      <th>NBA_defensive_rebound_percentage</th>\n",
       "      <th>NBA_defensive_rebounds</th>\n",
       "      <th>NBA_defensive_win_shares</th>\n",
       "      <th>...</th>\n",
       "      <th>NCAAB_turnover_percentage</th>\n",
       "      <th>NCAAB_turnovers</th>\n",
       "      <th>NCAAB_two_point_attempts</th>\n",
       "      <th>NCAAB_two_point_percentage</th>\n",
       "      <th>NCAAB_two_pointers</th>\n",
       "      <th>NCAAB_usage_percentage</th>\n",
       "      <th>NCAAB_weight</th>\n",
       "      <th>NCAAB_win_shares</th>\n",
       "      <th>NCAAB_win_shares_per_40_minutes</th>\n",
       "      <th>label</th>\n",
       "    </tr>\n",
       "    <tr>\n",
       "      <th>name</th>\n",
       "      <th></th>\n",
       "      <th></th>\n",
       "      <th></th>\n",
       "      <th></th>\n",
       "      <th></th>\n",
       "      <th></th>\n",
       "      <th></th>\n",
       "      <th></th>\n",
       "      <th></th>\n",
       "      <th></th>\n",
       "      <th></th>\n",
       "      <th></th>\n",
       "      <th></th>\n",
       "      <th></th>\n",
       "      <th></th>\n",
       "      <th></th>\n",
       "      <th></th>\n",
       "      <th></th>\n",
       "      <th></th>\n",
       "      <th></th>\n",
       "      <th></th>\n",
       "    </tr>\n",
       "  </thead>\n",
       "  <tbody>\n",
       "    <tr>\n",
       "      <th>Collin Sexton</th>\n",
       "      <td>0.463305</td>\n",
       "      <td>2.291449</td>\n",
       "      <td>-0.647061</td>\n",
       "      <td>-0.315962</td>\n",
       "      <td>-0.132901</td>\n",
       "      <td>0.0</td>\n",
       "      <td>-0.964117</td>\n",
       "      <td>-0.657629</td>\n",
       "      <td>1.111326</td>\n",
       "      <td>-1.487784</td>\n",
       "      <td>...</td>\n",
       "      <td>0.058234</td>\n",
       "      <td>0.906599</td>\n",
       "      <td>0.602755</td>\n",
       "      <td>-0.428858</td>\n",
       "      <td>0.399905</td>\n",
       "      <td>1.904014</td>\n",
       "      <td>-0.914637</td>\n",
       "      <td>-0.199637</td>\n",
       "      <td>-0.102803</td>\n",
       "      <td>2</td>\n",
       "    </tr>\n",
       "    <tr>\n",
       "      <th>Jevon Carter</th>\n",
       "      <td>0.686873</td>\n",
       "      <td>0.220500</td>\n",
       "      <td>0.139091</td>\n",
       "      <td>-0.051999</td>\n",
       "      <td>0.083427</td>\n",
       "      <td>0.0</td>\n",
       "      <td>0.335304</td>\n",
       "      <td>-0.403788</td>\n",
       "      <td>-0.247936</td>\n",
       "      <td>0.265264</td>\n",
       "      <td>...</td>\n",
       "      <td>0.113556</td>\n",
       "      <td>1.144171</td>\n",
       "      <td>0.671130</td>\n",
       "      <td>-1.326443</td>\n",
       "      <td>0.112378</td>\n",
       "      <td>0.112653</td>\n",
       "      <td>-1.115126</td>\n",
       "      <td>1.369330</td>\n",
       "      <td>0.675495</td>\n",
       "      <td>30</td>\n",
       "    </tr>\n",
       "    <tr>\n",
       "      <th>Dusty Hannahs</th>\n",
       "      <td>1.900527</td>\n",
       "      <td>-0.541228</td>\n",
       "      <td>-0.745330</td>\n",
       "      <td>-0.632718</td>\n",
       "      <td>-1.394816</td>\n",
       "      <td>0.0</td>\n",
       "      <td>-1.469447</td>\n",
       "      <td>-1.054945</td>\n",
       "      <td>-0.793781</td>\n",
       "      <td>-0.757347</td>\n",
       "      <td>...</td>\n",
       "      <td>-0.550308</td>\n",
       "      <td>-0.360451</td>\n",
       "      <td>-0.707759</td>\n",
       "      <td>-0.511968</td>\n",
       "      <td>-0.791278</td>\n",
       "      <td>0.588837</td>\n",
       "      <td>-0.192877</td>\n",
       "      <td>-1.104810</td>\n",
       "      <td>-1.049381</td>\n",
       "      <td>24</td>\n",
       "    </tr>\n",
       "    <tr>\n",
       "      <th>Julian Washburn</th>\n",
       "      <td>-0.345798</td>\n",
       "      <td>-0.434110</td>\n",
       "      <td>-0.401388</td>\n",
       "      <td>-0.527133</td>\n",
       "      <td>0.191591</td>\n",
       "      <td>0.0</td>\n",
       "      <td>0.876729</td>\n",
       "      <td>0.092856</td>\n",
       "      <td>-0.451290</td>\n",
       "      <td>-0.319085</td>\n",
       "      <td>...</td>\n",
       "      <td>-0.799257</td>\n",
       "      <td>-1.073167</td>\n",
       "      <td>-0.605197</td>\n",
       "      <td>-1.459418</td>\n",
       "      <td>-0.935041</td>\n",
       "      <td>-1.451954</td>\n",
       "      <td>-0.112681</td>\n",
       "      <td>-0.863431</td>\n",
       "      <td>-1.343873</td>\n",
       "      <td>24</td>\n",
       "    </tr>\n",
       "    <tr>\n",
       "      <th>Yuta Watanabe</th>\n",
       "      <td>-0.462905</td>\n",
       "      <td>-0.505522</td>\n",
       "      <td>-0.499657</td>\n",
       "      <td>-0.579925</td>\n",
       "      <td>-0.872022</td>\n",
       "      <td>0.0</td>\n",
       "      <td>-0.061741</td>\n",
       "      <td>0.412916</td>\n",
       "      <td>-0.515507</td>\n",
       "      <td>-0.465173</td>\n",
       "      <td>...</td>\n",
       "      <td>-1.297155</td>\n",
       "      <td>-0.716809</td>\n",
       "      <td>0.386235</td>\n",
       "      <td>-0.744675</td>\n",
       "      <td>0.091840</td>\n",
       "      <td>-0.182128</td>\n",
       "      <td>-0.794344</td>\n",
       "      <td>-0.561707</td>\n",
       "      <td>-1.196627</td>\n",
       "      <td>41</td>\n",
       "    </tr>\n",
       "  </tbody>\n",
       "</table>\n",
       "<p>5 rows × 87 columns</p>\n",
       "</div>"
      ],
      "text/plain": [
       "                 NBA_assist_percentage  NBA_assists  NBA_block_percentage  \\\n",
       "name                                                                        \n",
       "Collin Sexton                 0.463305     2.291449             -0.647061   \n",
       "Jevon Carter                  0.686873     0.220500              0.139091   \n",
       "Dusty Hannahs                 1.900527    -0.541228             -0.745330   \n",
       "Julian Washburn              -0.345798    -0.434110             -0.401388   \n",
       "Yuta Watanabe                -0.462905    -0.505522             -0.499657   \n",
       "\n",
       "                 NBA_blocks  NBA_box_plus_minus  NBA_center_percentage  \\\n",
       "name                                                                     \n",
       "Collin Sexton     -0.315962           -0.132901                    0.0   \n",
       "Jevon Carter      -0.051999            0.083427                    0.0   \n",
       "Dusty Hannahs     -0.632718           -1.394816                    0.0   \n",
       "Julian Washburn   -0.527133            0.191591                    0.0   \n",
       "Yuta Watanabe     -0.579925           -0.872022                    0.0   \n",
       "\n",
       "                 NBA_defensive_box_plus_minus  \\\n",
       "name                                            \n",
       "Collin Sexton                       -0.964117   \n",
       "Jevon Carter                         0.335304   \n",
       "Dusty Hannahs                       -1.469447   \n",
       "Julian Washburn                      0.876729   \n",
       "Yuta Watanabe                       -0.061741   \n",
       "\n",
       "                 NBA_defensive_rebound_percentage  NBA_defensive_rebounds  \\\n",
       "name                                                                        \n",
       "Collin Sexton                           -0.657629                1.111326   \n",
       "Jevon Carter                            -0.403788               -0.247936   \n",
       "Dusty Hannahs                           -1.054945               -0.793781   \n",
       "Julian Washburn                          0.092856               -0.451290   \n",
       "Yuta Watanabe                            0.412916               -0.515507   \n",
       "\n",
       "                 NBA_defensive_win_shares  ...  NCAAB_turnover_percentage  \\\n",
       "name                                       ...                              \n",
       "Collin Sexton                   -1.487784  ...                   0.058234   \n",
       "Jevon Carter                     0.265264  ...                   0.113556   \n",
       "Dusty Hannahs                   -0.757347  ...                  -0.550308   \n",
       "Julian Washburn                 -0.319085  ...                  -0.799257   \n",
       "Yuta Watanabe                   -0.465173  ...                  -1.297155   \n",
       "\n",
       "                 NCAAB_turnovers  NCAAB_two_point_attempts  \\\n",
       "name                                                         \n",
       "Collin Sexton           0.906599                  0.602755   \n",
       "Jevon Carter            1.144171                  0.671130   \n",
       "Dusty Hannahs          -0.360451                 -0.707759   \n",
       "Julian Washburn        -1.073167                 -0.605197   \n",
       "Yuta Watanabe          -0.716809                  0.386235   \n",
       "\n",
       "                 NCAAB_two_point_percentage  NCAAB_two_pointers  \\\n",
       "name                                                              \n",
       "Collin Sexton                     -0.428858            0.399905   \n",
       "Jevon Carter                      -1.326443            0.112378   \n",
       "Dusty Hannahs                     -0.511968           -0.791278   \n",
       "Julian Washburn                   -1.459418           -0.935041   \n",
       "Yuta Watanabe                     -0.744675            0.091840   \n",
       "\n",
       "                 NCAAB_usage_percentage  NCAAB_weight  NCAAB_win_shares  \\\n",
       "name                                                                      \n",
       "Collin Sexton                  1.904014     -0.914637         -0.199637   \n",
       "Jevon Carter                   0.112653     -1.115126          1.369330   \n",
       "Dusty Hannahs                  0.588837     -0.192877         -1.104810   \n",
       "Julian Washburn               -1.451954     -0.112681         -0.863431   \n",
       "Yuta Watanabe                 -0.182128     -0.794344         -0.561707   \n",
       "\n",
       "                 NCAAB_win_shares_per_40_minutes  label  \n",
       "name                                                     \n",
       "Collin Sexton                          -0.102803      2  \n",
       "Jevon Carter                            0.675495     30  \n",
       "Dusty Hannahs                          -1.049381     24  \n",
       "Julian Washburn                        -1.343873     24  \n",
       "Yuta Watanabe                          -1.196627     41  \n",
       "\n",
       "[5 rows x 87 columns]"
      ]
     },
     "execution_count": 325,
     "metadata": {},
     "output_type": "execute_result"
    }
   ],
   "source": [
    "df3.tail()"
   ]
  },
  {
   "cell_type": "code",
   "execution_count": 333,
   "metadata": {},
   "outputs": [],
   "source": [
    "df3['label'] = cluster.labels_\n",
    "d_ayton_label = df3[df3.index == 'Collin Sexton'].iloc[0].label"
   ]
  },
  {
   "cell_type": "code",
   "execution_count": 335,
   "metadata": {
    "scrolled": true
   },
   "outputs": [],
   "source": [
    "#df3.groupby('label').agg(['count'])"
   ]
  },
  {
   "cell_type": "code",
   "execution_count": 336,
   "metadata": {},
   "outputs": [
    {
     "data": {
      "text/html": [
       "<div>\n",
       "<style scoped>\n",
       "    .dataframe tbody tr th:only-of-type {\n",
       "        vertical-align: middle;\n",
       "    }\n",
       "\n",
       "    .dataframe tbody tr th {\n",
       "        vertical-align: top;\n",
       "    }\n",
       "\n",
       "    .dataframe thead th {\n",
       "        text-align: right;\n",
       "    }\n",
       "</style>\n",
       "<table border=\"1\" class=\"dataframe\">\n",
       "  <thead>\n",
       "    <tr style=\"text-align: right;\">\n",
       "      <th></th>\n",
       "      <th>NBA_assist_percentage</th>\n",
       "      <th>NBA_assists</th>\n",
       "      <th>NBA_block_percentage</th>\n",
       "      <th>NBA_blocks</th>\n",
       "      <th>NBA_box_plus_minus</th>\n",
       "      <th>NBA_center_percentage</th>\n",
       "      <th>NBA_defensive_box_plus_minus</th>\n",
       "      <th>NBA_defensive_rebound_percentage</th>\n",
       "      <th>NBA_defensive_rebounds</th>\n",
       "      <th>NBA_defensive_win_shares</th>\n",
       "      <th>...</th>\n",
       "      <th>NCAAB_turnover_percentage</th>\n",
       "      <th>NCAAB_turnovers</th>\n",
       "      <th>NCAAB_two_point_attempts</th>\n",
       "      <th>NCAAB_two_point_percentage</th>\n",
       "      <th>NCAAB_two_pointers</th>\n",
       "      <th>NCAAB_usage_percentage</th>\n",
       "      <th>NCAAB_weight</th>\n",
       "      <th>NCAAB_win_shares</th>\n",
       "      <th>NCAAB_win_shares_per_40_minutes</th>\n",
       "      <th>label</th>\n",
       "    </tr>\n",
       "    <tr>\n",
       "      <th>name</th>\n",
       "      <th></th>\n",
       "      <th></th>\n",
       "      <th></th>\n",
       "      <th></th>\n",
       "      <th></th>\n",
       "      <th></th>\n",
       "      <th></th>\n",
       "      <th></th>\n",
       "      <th></th>\n",
       "      <th></th>\n",
       "      <th></th>\n",
       "      <th></th>\n",
       "      <th></th>\n",
       "      <th></th>\n",
       "      <th></th>\n",
       "      <th></th>\n",
       "      <th></th>\n",
       "      <th></th>\n",
       "      <th></th>\n",
       "      <th></th>\n",
       "      <th></th>\n",
       "    </tr>\n",
       "  </thead>\n",
       "  <tbody>\n",
       "    <tr>\n",
       "      <th>Dion Waiters</th>\n",
       "      <td>0.793334</td>\n",
       "      <td>1.577329</td>\n",
       "      <td>-0.401388</td>\n",
       "      <td>0.211964</td>\n",
       "      <td>0.227646</td>\n",
       "      <td>0.0</td>\n",
       "      <td>-0.603167</td>\n",
       "      <td>-0.569337</td>\n",
       "      <td>0.554778</td>\n",
       "      <td>0.119177</td>\n",
       "      <td>...</td>\n",
       "      <td>-0.992884</td>\n",
       "      <td>-0.835595</td>\n",
       "      <td>-0.115179</td>\n",
       "      <td>0.136287</td>\n",
       "      <td>-0.072461</td>\n",
       "      <td>0.498135</td>\n",
       "      <td>0.087808</td>\n",
       "      <td>0.162432</td>\n",
       "      <td>0.864811</td>\n",
       "      <td>2</td>\n",
       "    </tr>\n",
       "    <tr>\n",
       "      <th>Zach LaVine</th>\n",
       "      <td>1.389515</td>\n",
       "      <td>2.684216</td>\n",
       "      <td>-0.548792</td>\n",
       "      <td>-0.104791</td>\n",
       "      <td>-0.006709</td>\n",
       "      <td>0.0</td>\n",
       "      <td>-0.603167</td>\n",
       "      <td>-0.260313</td>\n",
       "      <td>1.196949</td>\n",
       "      <td>-0.757347</td>\n",
       "      <td>...</td>\n",
       "      <td>-0.660952</td>\n",
       "      <td>-1.073167</td>\n",
       "      <td>-1.072424</td>\n",
       "      <td>-0.445480</td>\n",
       "      <td>-1.099342</td>\n",
       "      <td>-0.998445</td>\n",
       "      <td>-1.315615</td>\n",
       "      <td>-1.346190</td>\n",
       "      <td>-1.491118</td>\n",
       "      <td>2</td>\n",
       "    </tr>\n",
       "    <tr>\n",
       "      <th>Brandon Ingram</th>\n",
       "      <td>-0.047707</td>\n",
       "      <td>1.374995</td>\n",
       "      <td>-0.106581</td>\n",
       "      <td>1.267817</td>\n",
       "      <td>0.119482</td>\n",
       "      <td>0.0</td>\n",
       "      <td>0.118734</td>\n",
       "      <td>-0.138911</td>\n",
       "      <td>1.935446</td>\n",
       "      <td>0.265264</td>\n",
       "      <td>...</td>\n",
       "      <td>-0.743935</td>\n",
       "      <td>0.114692</td>\n",
       "      <td>0.397631</td>\n",
       "      <td>-0.944138</td>\n",
       "      <td>0.030227</td>\n",
       "      <td>0.248705</td>\n",
       "      <td>-0.914637</td>\n",
       "      <td>0.102087</td>\n",
       "      <td>-0.523505</td>\n",
       "      <td>2</td>\n",
       "    </tr>\n",
       "    <tr>\n",
       "      <th>Kevin Knox</th>\n",
       "      <td>-0.526781</td>\n",
       "      <td>0.375226</td>\n",
       "      <td>-0.303119</td>\n",
       "      <td>0.634306</td>\n",
       "      <td>-0.277120</td>\n",
       "      <td>0.0</td>\n",
       "      <td>-0.494882</td>\n",
       "      <td>-0.039582</td>\n",
       "      <td>2.128097</td>\n",
       "      <td>0.557439</td>\n",
       "      <td>...</td>\n",
       "      <td>0.030573</td>\n",
       "      <td>0.629432</td>\n",
       "      <td>0.215299</td>\n",
       "      <td>-0.196151</td>\n",
       "      <td>0.132916</td>\n",
       "      <td>0.021951</td>\n",
       "      <td>0.087808</td>\n",
       "      <td>-0.441017</td>\n",
       "      <td>-1.028346</td>\n",
       "      <td>2</td>\n",
       "    </tr>\n",
       "    <tr>\n",
       "      <th>Collin Sexton</th>\n",
       "      <td>0.463305</td>\n",
       "      <td>2.291449</td>\n",
       "      <td>-0.647061</td>\n",
       "      <td>-0.315962</td>\n",
       "      <td>-0.132901</td>\n",
       "      <td>0.0</td>\n",
       "      <td>-0.964117</td>\n",
       "      <td>-0.657629</td>\n",
       "      <td>1.111326</td>\n",
       "      <td>-1.487784</td>\n",
       "      <td>...</td>\n",
       "      <td>0.058234</td>\n",
       "      <td>0.906599</td>\n",
       "      <td>0.602755</td>\n",
       "      <td>-0.428858</td>\n",
       "      <td>0.399905</td>\n",
       "      <td>1.904014</td>\n",
       "      <td>-0.914637</td>\n",
       "      <td>-0.199637</td>\n",
       "      <td>-0.102803</td>\n",
       "      <td>2</td>\n",
       "    </tr>\n",
       "  </tbody>\n",
       "</table>\n",
       "<p>5 rows × 87 columns</p>\n",
       "</div>"
      ],
      "text/plain": [
       "                NBA_assist_percentage  NBA_assists  NBA_block_percentage  \\\n",
       "name                                                                       \n",
       "Dion Waiters                 0.793334     1.577329             -0.401388   \n",
       "Zach LaVine                  1.389515     2.684216             -0.548792   \n",
       "Brandon Ingram              -0.047707     1.374995             -0.106581   \n",
       "Kevin Knox                  -0.526781     0.375226             -0.303119   \n",
       "Collin Sexton                0.463305     2.291449             -0.647061   \n",
       "\n",
       "                NBA_blocks  NBA_box_plus_minus  NBA_center_percentage  \\\n",
       "name                                                                    \n",
       "Dion Waiters      0.211964            0.227646                    0.0   \n",
       "Zach LaVine      -0.104791           -0.006709                    0.0   \n",
       "Brandon Ingram    1.267817            0.119482                    0.0   \n",
       "Kevin Knox        0.634306           -0.277120                    0.0   \n",
       "Collin Sexton    -0.315962           -0.132901                    0.0   \n",
       "\n",
       "                NBA_defensive_box_plus_minus  \\\n",
       "name                                           \n",
       "Dion Waiters                       -0.603167   \n",
       "Zach LaVine                        -0.603167   \n",
       "Brandon Ingram                      0.118734   \n",
       "Kevin Knox                         -0.494882   \n",
       "Collin Sexton                      -0.964117   \n",
       "\n",
       "                NBA_defensive_rebound_percentage  NBA_defensive_rebounds  \\\n",
       "name                                                                       \n",
       "Dion Waiters                           -0.569337                0.554778   \n",
       "Zach LaVine                            -0.260313                1.196949   \n",
       "Brandon Ingram                         -0.138911                1.935446   \n",
       "Kevin Knox                             -0.039582                2.128097   \n",
       "Collin Sexton                          -0.657629                1.111326   \n",
       "\n",
       "                NBA_defensive_win_shares  ...  NCAAB_turnover_percentage  \\\n",
       "name                                      ...                              \n",
       "Dion Waiters                    0.119177  ...                  -0.992884   \n",
       "Zach LaVine                    -0.757347  ...                  -0.660952   \n",
       "Brandon Ingram                  0.265264  ...                  -0.743935   \n",
       "Kevin Knox                      0.557439  ...                   0.030573   \n",
       "Collin Sexton                  -1.487784  ...                   0.058234   \n",
       "\n",
       "                NCAAB_turnovers  NCAAB_two_point_attempts  \\\n",
       "name                                                        \n",
       "Dion Waiters          -0.835595                 -0.115179   \n",
       "Zach LaVine           -1.073167                 -1.072424   \n",
       "Brandon Ingram         0.114692                  0.397631   \n",
       "Kevin Knox             0.629432                  0.215299   \n",
       "Collin Sexton          0.906599                  0.602755   \n",
       "\n",
       "                NCAAB_two_point_percentage  NCAAB_two_pointers  \\\n",
       "name                                                             \n",
       "Dion Waiters                      0.136287           -0.072461   \n",
       "Zach LaVine                      -0.445480           -1.099342   \n",
       "Brandon Ingram                   -0.944138            0.030227   \n",
       "Kevin Knox                       -0.196151            0.132916   \n",
       "Collin Sexton                    -0.428858            0.399905   \n",
       "\n",
       "                NCAAB_usage_percentage  NCAAB_weight  NCAAB_win_shares  \\\n",
       "name                                                                     \n",
       "Dion Waiters                  0.498135      0.087808          0.162432   \n",
       "Zach LaVine                  -0.998445     -1.315615         -1.346190   \n",
       "Brandon Ingram                0.248705     -0.914637          0.102087   \n",
       "Kevin Knox                    0.021951      0.087808         -0.441017   \n",
       "Collin Sexton                 1.904014     -0.914637         -0.199637   \n",
       "\n",
       "                NCAAB_win_shares_per_40_minutes  label  \n",
       "name                                                    \n",
       "Dion Waiters                           0.864811      2  \n",
       "Zach LaVine                           -1.491118      2  \n",
       "Brandon Ingram                        -0.523505      2  \n",
       "Kevin Knox                            -1.028346      2  \n",
       "Collin Sexton                         -0.102803      2  \n",
       "\n",
       "[5 rows x 87 columns]"
      ]
     },
     "execution_count": 336,
     "metadata": {},
     "output_type": "execute_result"
    }
   ],
   "source": [
    "df3[df3['label'] == d_ayton_label]"
   ]
  },
  {
   "cell_type": "code",
   "execution_count": null,
   "metadata": {},
   "outputs": [],
   "source": []
  },
  {
   "cell_type": "code",
   "execution_count": 271,
   "metadata": {},
   "outputs": [
    {
     "data": {
      "text/plain": [
       "array([[0.89411765, 0.10196078, 0.10980392, 1.        ],\n",
       "       [0.89411765, 0.10196078, 0.10980392, 1.        ],\n",
       "       [0.21568627, 0.49411765, 0.72156863, 1.        ]])"
      ]
     },
     "execution_count": 271,
     "metadata": {},
     "output_type": "execute_result"
    }
   ],
   "source": [
    "plt.cm.Set1(label)"
   ]
  },
  {
   "cell_type": "code",
   "execution_count": null,
   "metadata": {},
   "outputs": [],
   "source": [
    "def test(data, label):\n",
    "    x_val = data[:, 0]\n",
    "    y_val = data[:, 1]\n",
    "    plt.figure(figsize=(18, 9))\n",
    "    for "
   ]
  },
  {
   "cell_type": "code",
   "execution_count": 259,
   "metadata": {},
   "outputs": [
    {
     "data": {
      "text/plain": [
       "array([[5.00000000e-01, 0.00000000e+00, 1.00000000e+00, 1.00000000e+00],\n",
       "       [5.03921569e-01, 9.99981027e-01, 7.04925547e-01, 1.00000000e+00],\n",
       "       [1.00000000e+00, 1.22464680e-16, 6.12323400e-17, 1.00000000e+00]])"
      ]
     },
     "execution_count": 259,
     "metadata": {},
     "output_type": "execute_result"
    }
   ],
   "source": [
    "plt.cm.rainbow([0, 0.5, 1])"
   ]
  },
  {
   "cell_type": "code",
   "execution_count": 252,
   "metadata": {},
   "outputs": [
    {
     "data": {
      "text/plain": [
       "(532, 4)"
      ]
     },
     "execution_count": 252,
     "metadata": {},
     "output_type": "execute_result"
    }
   ],
   "source": [
    "plt.cm.Set1(cluster.labels_/len(np.unique(cluster.labels_))).shape"
   ]
  },
  {
   "cell_type": "code",
   "execution_count": null,
   "metadata": {},
   "outputs": [],
   "source": []
  },
  {
   "cell_type": "code",
   "execution_count": 248,
   "metadata": {},
   "outputs": [],
   "source": [
    "def plot_embedding(X, y, title=None, num=10):\n",
    "#     x_min = np.min(X, 0)\n",
    "#     x_max = np.max(X, 0)\n",
    "#     X = (X-x_min)/(x_max-x_min)\n",
    "    \n",
    "    plt.figure(figsize=(18, 9))\n",
    "    plt.scatter(X[:,0], X[:,1], color=plt.cm.Set1(y/len(np.unique(y))))\n",
    "    \n",
    "#     plt.xticks([])\n",
    "#     plt.yticks([])\n",
    "    if title is not None:\n",
    "        plt.title(title)\n",
    "    plt.show()"
   ]
  },
  {
   "cell_type": "code",
   "execution_count": null,
   "metadata": {},
   "outputs": [],
   "source": [
    "def plot_cluster(data, labels):\n",
    "    for"
   ]
  },
  {
   "cell_type": "code",
   "execution_count": 244,
   "metadata": {},
   "outputs": [
    {
     "data": {
      "text/plain": [
       "array([11.40917276, -0.26131746])"
      ]
     },
     "execution_count": 244,
     "metadata": {},
     "output_type": "execute_result"
    }
   ],
   "source": [
    "pca_fitted[0]"
   ]
  },
  {
   "cell_type": "code",
   "execution_count": null,
   "metadata": {},
   "outputs": [],
   "source": [
    "plt.scatter(pca_fitted[0,0])"
   ]
  },
  {
   "cell_type": "code",
   "execution_count": 249,
   "metadata": {},
   "outputs": [
    {
     "data": {
      "image/png": "[encoded data removed]",
      "text/plain": [
       "<Figure size 1296x648 with 1 Axes>"
      ]
     },
     "metadata": {},
     "output_type": "display_data"
    }
   ],
   "source": [
    "cluster = KMeans(n_clusters=60, max_iter= 10000, n_init=100).fit(df2.values)\n",
    "plot_embedding(pca_fitted, cluster.labels_, 'K-Means projection',60)\n"
   ]
  },
  {
   "cell_type": "code",
   "execution_count": 234,
   "metadata": {},
   "outputs": [
    {
     "data": {
      "text/plain": [
       "array([ 0,  1,  2,  3,  4,  5,  6,  7,  8,  9, 10, 11, 12, 13, 14, 15, 16,\n",
       "       17, 18, 19, 20, 21, 22, 23, 24, 25, 26, 27, 28, 29, 30, 31, 32, 33,\n",
       "       34, 35, 36, 37, 38, 39, 40, 41, 42, 43, 44, 45, 46, 47, 48, 49, 50,\n",
       "       51, 52, 53, 54, 55, 56, 57, 58, 59], dtype=int32)"
      ]
     },
     "execution_count": 234,
     "metadata": {},
     "output_type": "execute_result"
    }
   ],
   "source": [
    "np.unique(cluster.labels_)"
   ]
  },
  {
   "cell_type": "code",
   "execution_count": 119,
   "metadata": {},
   "outputs": [],
   "source": [
    "def plot_embedding3d(X, y, title=None):\n",
    "    x_min = np.min(X, 0)\n",
    "    x_max = np.max(X, 0)\n",
    "    X = (X-x_min)/(x_max-x_min)\n",
    "    \n",
    "    plt.figure()\n",
    "    \n",
    "    ax = Axes3D(plt.figure(), rect=[0, 0, .95, 1], elev=48, azim=134)\n",
    "    ax.scatter(X[:,0], X[:,1], color=plt.cm.Set1(y/10.))\n",
    "    \n",
    "    ax.w_xaxis.set_ticklabels([])\n",
    "    ax.w_yaxis.set_ticklabels([])\n",
    "    ax.w_zaxis.set_ticklabels([])\n",
    "    if title is not None:\n",
    "        plt.title(title)\n",
    "    plt.show()"
   ]
  },
  {
   "cell_type": "code",
   "execution_count": 120,
   "metadata": {},
   "outputs": [],
   "source": [
    "from sklearn.decomposition import PCA\n",
    "from sklearn.manifold import TSNE"
   ]
  },
  {
   "cell_type": "code",
   "execution_count": 121,
   "metadata": {},
   "outputs": [],
   "source": [
    "subSpace = PCA(n_components=10).fit_transform(df2.values)"
   ]
  },
  {
   "cell_type": "code",
   "execution_count": 122,
   "metadata": {},
   "outputs": [
    {
     "data": {
      "text/plain": [
       "array([[-3.74797574,  2.60270908, -1.55677085, ..., -0.93539127,\n",
       "         0.1505615 , -0.52785646],\n",
       "       [-0.74478489, -4.70745182,  2.1699394 , ...,  2.23379321,\n",
       "        -0.89291969, -0.01383189],\n",
       "       [-0.37679405,  3.92053688,  3.12545255, ..., -2.02550468,\n",
       "         1.5903024 ,  0.07479376],\n",
       "       ...,\n",
       "       [ 0.43915616, -4.4768682 ,  2.27399313, ...,  0.13872729,\n",
       "        -1.0558526 , -0.18902922],\n",
       "       [ 2.40068451, -3.57555264, -0.29815848, ..., -0.79445909,\n",
       "         1.02750826,  0.58281544],\n",
       "       [-0.11753249, -1.27412879,  0.56525614, ..., -0.23193361,\n",
       "         0.25123751,  1.65032452]])"
      ]
     },
     "execution_count": 122,
     "metadata": {},
     "output_type": "execute_result"
    }
   ],
   "source": [
    "subSpace"
   ]
  },
  {
   "cell_type": "code",
   "execution_count": 105,
   "metadata": {},
   "outputs": [
    {
     "ename": "KeyError",
     "evalue": "'name'",
     "output_type": "error",
     "traceback": [
      "\u001b[0;31m---------------------------------------------------------------------------\u001b[0m",
      "\u001b[0;31mKeyError\u001b[0m                                  Traceback (most recent call last)",
      "\u001b[0;32m<ipython-input-105-8b4d6d7c2873>\u001b[0m in \u001b[0;36m<module>\u001b[0;34m()\u001b[0m\n\u001b[0;32m----> 1\u001b[0;31m \u001b[0mall_quan\u001b[0m\u001b[0;34m.\u001b[0m\u001b[0mset_index\u001b[0m\u001b[0;34m(\u001b[0m\u001b[0;34m'name'\u001b[0m\u001b[0;34m)\u001b[0m\u001b[0;34m\u001b[0m\u001b[0m\n\u001b[0m",
      "\u001b[0;32m/Users/calvin/anaconda2/lib/python2.7/site-packages/pandas/core/frame.pyc\u001b[0m in \u001b[0;36mset_index\u001b[0;34m(self, keys, drop, append, inplace, verify_integrity)\u001b[0m\n\u001b[1;32m   4176\u001b[0m                 \u001b[0mnames\u001b[0m\u001b[0;34m.\u001b[0m\u001b[0mappend\u001b[0m\u001b[0;34m(\u001b[0m\u001b[0mNone\u001b[0m\u001b[0;34m)\u001b[0m\u001b[0;34m\u001b[0m\u001b[0m\n\u001b[1;32m   4177\u001b[0m             \u001b[0;32melse\u001b[0m\u001b[0;34m:\u001b[0m\u001b[0;34m\u001b[0m\u001b[0m\n\u001b[0;32m-> 4178\u001b[0;31m                 \u001b[0mlevel\u001b[0m \u001b[0;34m=\u001b[0m \u001b[0mframe\u001b[0m\u001b[0;34m[\u001b[0m\u001b[0mcol\u001b[0m\u001b[0;34m]\u001b[0m\u001b[0;34m.\u001b[0m\u001b[0m_values\u001b[0m\u001b[0;34m\u001b[0m\u001b[0m\n\u001b[0m\u001b[1;32m   4179\u001b[0m                 \u001b[0mnames\u001b[0m\u001b[0;34m.\u001b[0m\u001b[0mappend\u001b[0m\u001b[0;34m(\u001b[0m\u001b[0mcol\u001b[0m\u001b[0;34m)\u001b[0m\u001b[0;34m\u001b[0m\u001b[0m\n\u001b[1;32m   4180\u001b[0m                 \u001b[0;32mif\u001b[0m \u001b[0mdrop\u001b[0m\u001b[0;34m:\u001b[0m\u001b[0;34m\u001b[0m\u001b[0m\n",
      "\u001b[0;32m/Users/calvin/anaconda2/lib/python2.7/site-packages/pandas/core/frame.pyc\u001b[0m in \u001b[0;36m__getitem__\u001b[0;34m(self, key)\u001b[0m\n\u001b[1;32m   2925\u001b[0m             \u001b[0;32mif\u001b[0m \u001b[0mself\u001b[0m\u001b[0;34m.\u001b[0m\u001b[0mcolumns\u001b[0m\u001b[0;34m.\u001b[0m\u001b[0mnlevels\u001b[0m \u001b[0;34m>\u001b[0m \u001b[0;36m1\u001b[0m\u001b[0;34m:\u001b[0m\u001b[0;34m\u001b[0m\u001b[0m\n\u001b[1;32m   2926\u001b[0m                 \u001b[0;32mreturn\u001b[0m \u001b[0mself\u001b[0m\u001b[0;34m.\u001b[0m\u001b[0m_getitem_multilevel\u001b[0m\u001b[0;34m(\u001b[0m\u001b[0mkey\u001b[0m\u001b[0;34m)\u001b[0m\u001b[0;34m\u001b[0m\u001b[0m\n\u001b[0;32m-> 2927\u001b[0;31m             \u001b[0mindexer\u001b[0m \u001b[0;34m=\u001b[0m \u001b[0mself\u001b[0m\u001b[0;34m.\u001b[0m\u001b[0mcolumns\u001b[0m\u001b[0;34m.\u001b[0m\u001b[0mget_loc\u001b[0m\u001b[0;34m(\u001b[0m\u001b[0mkey\u001b[0m\u001b[0;34m)\u001b[0m\u001b[0;34m\u001b[0m\u001b[0m\n\u001b[0m\u001b[1;32m   2928\u001b[0m             \u001b[0;32mif\u001b[0m \u001b[0mis_integer\u001b[0m\u001b[0;34m(\u001b[0m\u001b[0mindexer\u001b[0m\u001b[0;34m)\u001b[0m\u001b[0;34m:\u001b[0m\u001b[0;34m\u001b[0m\u001b[0m\n\u001b[1;32m   2929\u001b[0m                 \u001b[0mindexer\u001b[0m \u001b[0;34m=\u001b[0m \u001b[0;34m[\u001b[0m\u001b[0mindexer\u001b[0m\u001b[0;34m]\u001b[0m\u001b[0;34m\u001b[0m\u001b[0m\n",
      "\u001b[0;32m/Users/calvin/anaconda2/lib/python2.7/site-packages/pandas/core/indexes/base.pyc\u001b[0m in \u001b[0;36mget_loc\u001b[0;34m(self, key, method, tolerance)\u001b[0m\n\u001b[1;32m   2657\u001b[0m                 \u001b[0;32mreturn\u001b[0m \u001b[0mself\u001b[0m\u001b[0;34m.\u001b[0m\u001b[0m_engine\u001b[0m\u001b[0;34m.\u001b[0m\u001b[0mget_loc\u001b[0m\u001b[0;34m(\u001b[0m\u001b[0mkey\u001b[0m\u001b[0;34m)\u001b[0m\u001b[0;34m\u001b[0m\u001b[0m\n\u001b[1;32m   2658\u001b[0m             \u001b[0;32mexcept\u001b[0m \u001b[0mKeyError\u001b[0m\u001b[0;34m:\u001b[0m\u001b[0;34m\u001b[0m\u001b[0m\n\u001b[0;32m-> 2659\u001b[0;31m                 \u001b[0;32mreturn\u001b[0m \u001b[0mself\u001b[0m\u001b[0;34m.\u001b[0m\u001b[0m_engine\u001b[0m\u001b[0;34m.\u001b[0m\u001b[0mget_loc\u001b[0m\u001b[0;34m(\u001b[0m\u001b[0mself\u001b[0m\u001b[0;34m.\u001b[0m\u001b[0m_maybe_cast_indexer\u001b[0m\u001b[0;34m(\u001b[0m\u001b[0mkey\u001b[0m\u001b[0;34m)\u001b[0m\u001b[0;34m)\u001b[0m\u001b[0;34m\u001b[0m\u001b[0m\n\u001b[0m\u001b[1;32m   2660\u001b[0m         \u001b[0mindexer\u001b[0m \u001b[0;34m=\u001b[0m \u001b[0mself\u001b[0m\u001b[0;34m.\u001b[0m\u001b[0mget_indexer\u001b[0m\u001b[0;34m(\u001b[0m\u001b[0;34m[\u001b[0m\u001b[0mkey\u001b[0m\u001b[0;34m]\u001b[0m\u001b[0;34m,\u001b[0m \u001b[0mmethod\u001b[0m\u001b[0;34m=\u001b[0m\u001b[0mmethod\u001b[0m\u001b[0;34m,\u001b[0m \u001b[0mtolerance\u001b[0m\u001b[0;34m=\u001b[0m\u001b[0mtolerance\u001b[0m\u001b[0;34m)\u001b[0m\u001b[0;34m\u001b[0m\u001b[0m\n\u001b[1;32m   2661\u001b[0m         \u001b[0;32mif\u001b[0m \u001b[0mindexer\u001b[0m\u001b[0;34m.\u001b[0m\u001b[0mndim\u001b[0m \u001b[0;34m>\u001b[0m \u001b[0;36m1\u001b[0m \u001b[0;32mor\u001b[0m \u001b[0mindexer\u001b[0m\u001b[0;34m.\u001b[0m\u001b[0msize\u001b[0m \u001b[0;34m>\u001b[0m \u001b[0;36m1\u001b[0m\u001b[0;34m:\u001b[0m\u001b[0;34m\u001b[0m\u001b[0m\n",
      "\u001b[0;32mpandas/_libs/index.pyx\u001b[0m in \u001b[0;36mpandas._libs.index.IndexEngine.get_loc\u001b[0;34m()\u001b[0m\n",
      "\u001b[0;32mpandas/_libs/index.pyx\u001b[0m in \u001b[0;36mpandas._libs.index.IndexEngine.get_loc\u001b[0;34m()\u001b[0m\n",
      "\u001b[0;32mpandas/_libs/hashtable_class_helper.pxi\u001b[0m in \u001b[0;36mpandas._libs.hashtable.PyObjectHashTable.get_item\u001b[0;34m()\u001b[0m\n",
      "\u001b[0;32mpandas/_libs/hashtable_class_helper.pxi\u001b[0m in \u001b[0;36mpandas._libs.hashtable.PyObjectHashTable.get_item\u001b[0;34m()\u001b[0m\n",
      "\u001b[0;31mKeyError\u001b[0m: 'name'"
     ]
    }
   ],
   "source": [
    "all_quan.set_index('name')"
   ]
  },
  {
   "cell_type": "code",
   "execution_count": 85,
   "metadata": {},
   "outputs": [],
   "source": [
    "from sklearn.preprocessing import StandardScaler"
   ]
  },
  {
   "cell_type": "code",
   "execution_count": 86,
   "metadata": {},
   "outputs": [
    {
     "name": "stderr",
     "output_type": "stream",
     "text": [
      "/Users/calvin/anaconda2/lib/python2.7/site-packages/sklearn/preprocessing/data.py:645: DataConversionWarning: Data with input dtype int64, float64 were all converted to float64 by StandardScaler.\n",
      "  return self.partial_fit(X, y)\n",
      "/Users/calvin/anaconda2/lib/python2.7/site-packages/sklearn/base.py:464: DataConversionWarning: Data with input dtype int64, float64 were all converted to float64 by StandardScaler.\n",
      "  return self.fit(X, **fit_params).transform(X)\n"
     ]
    },
    {
     "data": {
      "text/plain": [
       "array([[ 0.35496337,  0.08226841, -0.25673091, ...,  0.08780818,\n",
       "         0.76588093,  0.50721423],\n",
       "       [ 0.82045258,  1.4620751 , -0.76158865, ..., -0.71414806,\n",
       "         0.10208721, -0.18694332],\n",
       "       [-1.12613868, -0.80955786,  0.34909837, ...,  0.88976441,\n",
       "         1.36932976,  0.86481055],\n",
       "       ...,\n",
       "       [-0.69238737, -0.69176949, -0.8625602 , ..., -0.1928765 ,\n",
       "        -1.10481046, -1.04938149],\n",
       "       [-0.04705005,  0.03178768, -0.42501683, ..., -0.11268088,\n",
       "        -0.86343093, -1.34387257],\n",
       "       [-0.73470457, -0.54032729,  0.55104147, ..., -0.79434368,\n",
       "        -0.56170651, -1.19662703]])"
      ]
     },
     "execution_count": 86,
     "metadata": {},
     "output_type": "execute_result"
    }
   ],
   "source": [
    "X = StandardScaler().fit_transform(all_quan)\n",
    "X"
   ]
  },
  {
   "cell_type": "code",
   "execution_count": 87,
   "metadata": {
    "scrolled": true
   },
   "outputs": [],
   "source": [
    "pca = PCA(n_components=10)\n",
    "components = pca.fit_transform(X)"
   ]
  },
  {
   "cell_type": "code",
   "execution_count": 88,
   "metadata": {},
   "outputs": [],
   "source": [
    "principalDf = pd.DataFrame(data=components, columns=range(1, 11))"
   ]
  },
  {
   "cell_type": "code",
   "execution_count": 89,
   "metadata": {},
   "outputs": [
    {
     "data": {
      "text/html": [
       "<div>\n",
       "<style scoped>\n",
       "    .dataframe tbody tr th:only-of-type {\n",
       "        vertical-align: middle;\n",
       "    }\n",
       "\n",
       "    .dataframe tbody tr th {\n",
       "        vertical-align: top;\n",
       "    }\n",
       "\n",
       "    .dataframe thead th {\n",
       "        text-align: right;\n",
       "    }\n",
       "</style>\n",
       "<table border=\"1\" class=\"dataframe\">\n",
       "  <thead>\n",
       "    <tr style=\"text-align: right;\">\n",
       "      <th></th>\n",
       "      <th>1</th>\n",
       "      <th>2</th>\n",
       "      <th>3</th>\n",
       "      <th>4</th>\n",
       "      <th>5</th>\n",
       "      <th>6</th>\n",
       "      <th>7</th>\n",
       "      <th>8</th>\n",
       "      <th>9</th>\n",
       "      <th>10</th>\n",
       "    </tr>\n",
       "  </thead>\n",
       "  <tbody>\n",
       "    <tr>\n",
       "      <th>0</th>\n",
       "      <td>-3.747976</td>\n",
       "      <td>2.602709</td>\n",
       "      <td>-1.556771</td>\n",
       "      <td>-0.941098</td>\n",
       "      <td>1.792127</td>\n",
       "      <td>0.733254</td>\n",
       "      <td>0.892591</td>\n",
       "      <td>-0.935389</td>\n",
       "      <td>0.150566</td>\n",
       "      <td>-0.527866</td>\n",
       "    </tr>\n",
       "    <tr>\n",
       "      <th>1</th>\n",
       "      <td>-0.744785</td>\n",
       "      <td>-4.707452</td>\n",
       "      <td>2.169939</td>\n",
       "      <td>4.278711</td>\n",
       "      <td>-2.496189</td>\n",
       "      <td>0.109040</td>\n",
       "      <td>0.355604</td>\n",
       "      <td>2.233802</td>\n",
       "      <td>-0.892912</td>\n",
       "      <td>-0.013837</td>\n",
       "    </tr>\n",
       "    <tr>\n",
       "      <th>2</th>\n",
       "      <td>-0.376794</td>\n",
       "      <td>3.920537</td>\n",
       "      <td>3.125453</td>\n",
       "      <td>-0.259329</td>\n",
       "      <td>-1.155508</td>\n",
       "      <td>-0.660951</td>\n",
       "      <td>-0.381554</td>\n",
       "      <td>-2.025500</td>\n",
       "      <td>1.590301</td>\n",
       "      <td>0.074815</td>\n",
       "    </tr>\n",
       "    <tr>\n",
       "      <th>3</th>\n",
       "      <td>1.655018</td>\n",
       "      <td>4.638337</td>\n",
       "      <td>-1.886170</td>\n",
       "      <td>-1.190878</td>\n",
       "      <td>0.599394</td>\n",
       "      <td>-0.984016</td>\n",
       "      <td>-0.875801</td>\n",
       "      <td>0.268574</td>\n",
       "      <td>0.059664</td>\n",
       "      <td>-0.411993</td>\n",
       "    </tr>\n",
       "    <tr>\n",
       "      <th>4</th>\n",
       "      <td>2.375042</td>\n",
       "      <td>6.887177</td>\n",
       "      <td>0.028326</td>\n",
       "      <td>0.509367</td>\n",
       "      <td>-1.242948</td>\n",
       "      <td>1.020968</td>\n",
       "      <td>-1.707580</td>\n",
       "      <td>0.389958</td>\n",
       "      <td>-0.395334</td>\n",
       "      <td>2.400396</td>\n",
       "    </tr>\n",
       "  </tbody>\n",
       "</table>\n",
       "</div>"
      ],
      "text/plain": [
       "         1         2         3         4         5         6         7   \\\n",
       "0 -3.747976  2.602709 -1.556771 -0.941098  1.792127  0.733254  0.892591   \n",
       "1 -0.744785 -4.707452  2.169939  4.278711 -2.496189  0.109040  0.355604   \n",
       "2 -0.376794  3.920537  3.125453 -0.259329 -1.155508 -0.660951 -0.381554   \n",
       "3  1.655018  4.638337 -1.886170 -1.190878  0.599394 -0.984016 -0.875801   \n",
       "4  2.375042  6.887177  0.028326  0.509367 -1.242948  1.020968 -1.707580   \n",
       "\n",
       "         8         9         10  \n",
       "0 -0.935389  0.150566 -0.527866  \n",
       "1  2.233802 -0.892912 -0.013837  \n",
       "2 -2.025500  1.590301  0.074815  \n",
       "3  0.268574  0.059664 -0.411993  \n",
       "4  0.389958 -0.395334  2.400396  "
      ]
     },
     "execution_count": 89,
     "metadata": {},
     "output_type": "execute_result"
    }
   ],
   "source": [
    "principalDf.head()"
   ]
  },
  {
   "cell_type": "code",
   "execution_count": 90,
   "metadata": {},
   "outputs": [
    {
     "name": "stdout",
     "output_type": "stream",
     "text": [
      "[0.29719438 0.26771107 0.09136469 0.06401817 0.05559654 0.04141728\n",
      " 0.02917882 0.02711127 0.0223973  0.01991143]\n"
     ]
    }
   ],
   "source": [
    "print(pca.explained_variance_ratio_)"
   ]
  },
  {
   "cell_type": "code",
   "execution_count": 93,
   "metadata": {},
   "outputs": [],
   "source": [
    "import matplotlib.pyplot as plt"
   ]
  },
  {
   "cell_type": "code",
   "execution_count": 99,
   "metadata": {},
   "outputs": [
    {
     "data": {
      "text/plain": [
       "<BarContainer object of 10 artists>"
      ]
     },
     "execution_count": 99,
     "metadata": {},
     "output_type": "execute_result"
    },
    {
     "data": {
      "image/png": "[encoded data removed]",
      "text/plain": [
       "<Figure size 432x288 with 1 Axes>"
      ]
     },
     "metadata": {
      "needs_background": "light"
     },
     "output_type": "display_data"
    }
   ],
   "source": [
    "plt.bar(range(1, 11), pca.explained_variance_ratio_)"
   ]
  },
  {
   "cell_type": "code",
   "execution_count": 76,
   "metadata": {},
   "outputs": [
    {
     "data": {
      "text/plain": [
       "(532, 41)"
      ]
     },
     "execution_count": 76,
     "metadata": {},
     "output_type": "execute_result"
    }
   ],
   "source": [
    "all_quan.shape"
   ]
  },
  {
   "cell_type": "code",
   "execution_count": 78,
   "metadata": {},
   "outputs": [
    {
     "data": {
      "text/plain": [
       "(10,)"
      ]
     },
     "execution_count": 78,
     "metadata": {},
     "output_type": "execute_result"
    }
   ],
   "source": [
    "pca.explained_variance_.shape"
   ]
  },
  {
   "cell_type": "code",
   "execution_count": 75,
   "metadata": {},
   "outputs": [
    {
     "data": {
      "text/plain": [
       "(10, 41)"
      ]
     },
     "execution_count": 75,
     "metadata": {},
     "output_type": "execute_result"
    }
   ],
   "source": [
    "pca.components_.shape"
   ]
  },
  {
   "cell_type": "code",
   "execution_count": 72,
   "metadata": {},
   "outputs": [
    {
     "name": "stdout",
     "output_type": "stream",
     "text": [
      "[7693.52553584 3104.99794491 2546.78630055 1541.92649894 1158.20966081\n",
      " 1026.41986266  650.92427313  456.71407249  424.54103803  398.37738298]\n"
     ]
    }
   ],
   "source": [
    "print(pca.singular_values_)"
   ]
  },
  {
   "cell_type": "code",
   "execution_count": 27,
   "metadata": {
    "scrolled": true
   },
   "outputs": [
    {
     "data": {
      "text/plain": [
       "Index([u'name', u'NCAAB_assist_percentage', u'NCAAB_assists',\n",
       "       u'NCAAB_block_percentage', u'NCAAB_blocks', u'NCAAB_box_plus_minus',\n",
       "       u'NCAAB_conference', u'NCAAB_defensive_box_plus_minus',\n",
       "       u'NCAAB_defensive_rebound_percentage', u'NCAAB_defensive_rebounds',\n",
       "       u'NCAAB_defensive_win_shares', u'NCAAB_effective_field_goal_percentage',\n",
       "       u'NCAAB_field_goal_attempts', u'NCAAB_field_goal_percentage',\n",
       "       u'NCAAB_field_goals', u'NCAAB_free_throw_attempt_rate',\n",
       "       u'NCAAB_free_throw_attempts', u'NCAAB_free_throw_percentage',\n",
       "       u'NCAAB_free_throws', u'NCAAB_games_played', u'NCAAB_games_started',\n",
       "       u'NCAAB_height', u'NCAAB_minutes_played',\n",
       "       u'NCAAB_offensive_box_plus_minus',\n",
       "       u'NCAAB_offensive_rebound_percentage', u'NCAAB_offensive_rebounds',\n",
       "       u'NCAAB_offensive_win_shares', u'NCAAB_personal_fouls',\n",
       "       u'NCAAB_player_efficiency_rating', u'NCAAB_player_id', u'NCAAB_points',\n",
       "       u'NCAAB_points_produced', u'NCAAB_position', u'NCAAB_steal_percentage',\n",
       "       u'NCAAB_steals', u'NCAAB_team_abbreviation',\n",
       "       u'NCAAB_three_point_attempt_rate', u'NCAAB_three_point_attempts',\n",
       "       u'NCAAB_three_point_percentage', u'NCAAB_three_pointers',\n",
       "       u'NCAAB_total_rebound_percentage', u'NCAAB_total_rebounds',\n",
       "       u'NCAAB_true_shooting_percentage', u'NCAAB_turnover_percentage',\n",
       "       u'NCAAB_turnovers', u'NCAAB_two_point_attempts',\n",
       "       u'NCAAB_two_point_percentage', u'NCAAB_two_pointers',\n",
       "       u'NCAAB_usage_percentage', u'NCAAB_weight', u'NCAAB_win_shares',\n",
       "       u'NCAAB_win_shares_per_40_minutes'],\n",
       "      dtype='object')"
      ]
     },
     "execution_count": 27,
     "metadata": {},
     "output_type": "execute_result"
    }
   ],
   "source": [
    "train.columns"
   ]
  },
  {
   "cell_type": "code",
   "execution_count": null,
   "metadata": {},
   "outputs": [],
   "source": [
    "sns.boxplot(data['Year'], df2['3PA'], ax=ax)"
   ]
  },
  {
   "cell_type": "code",
   "execution_count": 9,
   "metadata": {},
   "outputs": [
    {
     "data": {
      "text/plain": [
       "0      219.0\n",
       "1        4.0\n",
       "2        2.0\n",
       "3        0.0\n",
       "4        0.0\n",
       "       ...  \n",
       "527    296.0\n",
       "528    102.0\n",
       "529      5.0\n",
       "530     24.0\n",
       "531     16.0\n",
       "Name: NBA_three_point_attempts, Length: 532, dtype: float64"
      ]
     },
     "execution_count": 9,
     "metadata": {},
     "output_type": "execute_result"
    }
   ],
   "source": [
    "data['NBA_three_point_attempts']"
   ]
  },
  {
   "cell_type": "code",
   "execution_count": null,
   "metadata": {},
   "outputs": [],
   "source": []
  }
 ],
 "metadata": {
  "kernelspec": {
   "display_name": "Python 2",
   "language": "python",
   "name": "python2"
  },
  "language_info": {
   "codemirror_mode": {
    "name": "ipython",
    "version": 2
   },
   "file_extension": ".py",
   "mimetype": "text/x-python",
   "name": "python",
   "nbconvert_exporter": "python",
   "pygments_lexer": "ipython2",
   "version": "2.7.16"
  }
 },
 "nbformat": 4,
 "nbformat_minor": 4
}
